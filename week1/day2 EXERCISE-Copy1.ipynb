{
 "cells": [
  {
   "cell_type": "markdown",
   "id": "d15d8294-3328-4e07-ad16-8a03e9bbfdb9",
   "metadata": {},
   "source": [
    "# Welcome to your first assignment!\n",
    "\n",
    "Instructions are below. Please give this a try, and look in the solutions folder if you get stuck (or feel free to ask me!)"
   ]
  },
  {
   "cell_type": "markdown",
   "id": "ada885d9-4d42-4d9b-97f0-74fbbbfe93a9",
   "metadata": {},
   "source": [
    "<table style=\"margin: 0; text-align: left;\">\n",
    "    <tr>\n",
    "        <td style=\"width: 150px; height: 150px; vertical-align: middle;\">\n",
    "            <img src=\"../resources.jpg\" width=\"150\" height=\"150\" style=\"display: block;\" />\n",
    "        </td>\n",
    "        <td>\n",
    "            <h2 style=\"color:#f71;\">Just before we get to the assignment --</h2>\n",
    "            <span style=\"color:#f71;\">I thought I'd take a second to point you at this page of useful resources for the course. This includes links to all the slides.<br/>\n",
    "            <a href=\"https://edwarddonner.com/2024/11/13/llm-engineering-resources/\">https://edwarddonner.com/2024/11/13/llm-engineering-resources/</a><br/>\n",
    "            Please keep this bookmarked, and I'll continue to add more useful links there over time.\n",
    "            </span>\n",
    "        </td>\n",
    "    </tr>\n",
    "</table>"
   ]
  },
  {
   "cell_type": "markdown",
   "id": "6e9fa1fc-eac5-4d1d-9be4-541b3f2b3458",
   "metadata": {},
   "source": [
    "# HOMEWORK EXERCISE ASSIGNMENT\n",
    "\n",
    "Upgrade the day 1 project to summarize a webpage to use an Open Source model running locally via Ollama rather than OpenAI\n",
    "\n",
    "You'll be able to use this technique for all subsequent projects if you'd prefer not to use paid APIs.\n",
    "\n",
    "**Benefits:**\n",
    "1. No API charges - open-source\n",
    "2. Data doesn't leave your box\n",
    "\n",
    "**Disadvantages:**\n",
    "1. Significantly less power than Frontier Model\n",
    "\n",
    "## Recap on installation of Ollama\n",
    "\n",
    "Simply visit [ollama.com](https://ollama.com) and install!\n",
    "\n",
    "Once complete, the ollama server should already be running locally.  \n",
    "If you visit:  \n",
    "[http://localhost:11434/](http://localhost:11434/)\n",
    "\n",
    "You should see the message `Ollama is running`.  \n",
    "\n",
    "If not, bring up a new Terminal (Mac) or Powershell (Windows) and enter `ollama serve`  \n",
    "And in another Terminal (Mac) or Powershell (Windows), enter `ollama pull llama3.2`  \n",
    "Then try [http://localhost:11434/](http://localhost:11434/) again.\n",
    "\n",
    "If Ollama is slow on your machine, try using `llama3.2:1b` as an alternative. Run `ollama pull llama3.2:1b` from a Terminal or Powershell, and change the code below from `MODEL = \"llama3.2\"` to `MODEL = \"llama3.2:1b\"`"
   ]
  },
  {
   "cell_type": "code",
   "execution_count": 7,
   "id": "4e2a9393-7767-488e-a8bf-27c12dca35bd",
   "metadata": {},
   "outputs": [
    {
     "name": "stdout",
     "output_type": "stream",
     "text": [
      "Loaded successfully !!!\n"
     ]
    }
   ],
   "source": [
    "# imports\n",
    "\n",
    "import requests\n",
    "from bs4 import BeautifulSoup\n",
    "from IPython.display import Markdown, display\n",
    "print('Loaded successfully !!!')\n",
    "import ollama"
   ]
  },
  {
   "cell_type": "code",
   "execution_count": 8,
   "id": "29ddd15d-a3c5-4f4e-a678-873f56162724",
   "metadata": {},
   "outputs": [],
   "source": [
    "# Constants\n",
    "\n",
    "OLLAMA_API = \"http://localhost:11434/api/chat\"\n",
    "HEADERS = {\"Content-Type\": \"application/json\"}\n",
    "MODEL = \"llama3.2\""
   ]
  },
  {
   "cell_type": "code",
   "execution_count": 3,
   "id": "dac0a679-599c-441f-9bf2-ddc73d35b940",
   "metadata": {},
   "outputs": [],
   "source": [
    "# Create a messages list using the same format that we used for OpenAI\n",
    "\n",
    "messages = [\n",
    "    {\"role\": \"user\", \"content\": \"Describe some of the business applications of Generative AI\"}\n",
    "]"
   ]
  },
  {
   "cell_type": "code",
   "execution_count": 4,
   "id": "7bb9c624-14f0-4945-a719-8ddb64f66f47",
   "metadata": {},
   "outputs": [],
   "source": [
    "payload = {\n",
    "        \"model\": MODEL,\n",
    "        \"messages\": messages,\n",
    "        \"stream\": False\n",
    "    }"
   ]
  },
  {
   "cell_type": "code",
   "execution_count": null,
   "id": "479ff514-e8bd-4985-a572-2ea28bb4fa40",
   "metadata": {},
   "outputs": [],
   "source": [
    "# Let's just make sure the model is loaded\n",
    "\n",
    "!ollama pull llama3.2"
   ]
  },
  {
   "cell_type": "code",
   "execution_count": 5,
   "id": "42b9f644-522d-4e05-a691-56e7658c0ea9",
   "metadata": {},
   "outputs": [
    {
     "name": "stdout",
     "output_type": "stream",
     "text": [
      "Generative AI has numerous business applications across various industries. Here are some examples:\n",
      "\n",
      "1. **Content Creation**: Generative AI can generate high-quality content such as articles, social media posts, and product descriptions. This can save time and resources for businesses that need to produce large amounts of content quickly.\n",
      "2. **Product Design**: Generative AI can be used to design new products, such as furniture, clothing, or electronics. This can help businesses reduce their design costs and accelerate the product development process.\n",
      "3. **Marketing Automation**: Generative AI can be used to personalize marketing messages and create targeted advertising campaigns. It can also help automate social media management tasks such as responding to customer inquiries and creating social media content.\n",
      "4. **Customer Service Chatbots**: Generative AI can power chatbots that use natural language processing (NLP) to understand customer queries and provide personalized responses.\n",
      "5. **Data Analysis**: Generative AI can be used to analyze large datasets and identify patterns and trends that may not have been apparent through traditional analysis methods.\n",
      "6. **Predictive Maintenance**: Generative AI can be used to predict equipment failures and schedule maintenance, reducing downtime and increasing efficiency.\n",
      "7. **Supply Chain Optimization**: Generative AI can be used to optimize supply chain operations by analyzing data on inventory levels, shipping routes, and demand forecasts.\n",
      "8. **Financial Modeling**: Generative AI can be used to create financial models that simulate different scenarios and predict outcomes, helping businesses make more informed investment decisions.\n",
      "9. **Image and Video Generation**: Generative AI can be used to generate high-quality images and videos for marketing, advertising, and other business applications.\n",
      "10. **User Experience (UX) Design**: Generative AI can be used to design user interfaces that are intuitive and user-friendly, improving the overall UX of a product or service.\n",
      "\n",
      "Some specific examples of businesses using generative AI include:\n",
      "\n",
      "* **Amazon**: Uses generative AI to create personalized product recommendations for customers\n",
      "* **Google**: Uses generative AI to generate high-quality images for its search results\n",
      "* **Microsoft**: Uses generative AI to power its chatbot platform, which is used by customers to get help with their products and services\n",
      "* **Ford**: Uses generative AI to design new car models and optimize manufacturing processes\n",
      "\n",
      "Overall, the applications of generative AI are vast and varied, and it's likely that we'll see even more innovative uses of this technology in the future.\n"
     ]
    }
   ],
   "source": [
    "# If this doesn't work for any reason, try the 2 versions in the following cells\n",
    "# And double check the instructions in the 'Recap on installation of Ollama' at the top of this lab\n",
    "# And if none of that works - contact me!\n",
    "\n",
    "response = requests.post(OLLAMA_API, json=payload, headers=HEADERS)\n",
    "print(response.json()['message']['content'])"
   ]
  },
  {
   "cell_type": "markdown",
   "id": "6a021f13-d6a1-4b96-8e18-4eae49d876fe",
   "metadata": {},
   "source": [
    "# Introducing the ollama package\n",
    "\n",
    "And now we'll do the same thing, but using the elegant ollama python package instead of a direct HTTP call.\n",
    "\n",
    "Under the hood, it's making the same call as above to the ollama server running at localhost:11434"
   ]
  },
  {
   "cell_type": "code",
   "execution_count": 6,
   "id": "7745b9c4-57dc-4867-9180-61fa5db55eb8",
   "metadata": {},
   "outputs": [
    {
     "name": "stdout",
     "output_type": "stream",
     "text": [
      "Generative AI has numerous business applications across various industries. Here are some examples:\n",
      "\n",
      "1. **Content Generation**: Generative AI can create high-quality, engaging content such as blog posts, social media posts, product descriptions, and even entire articles. This can help businesses save time and resources on content creation.\n",
      "2. **Product Design and Development**: Generative AI can be used to design and develop new products, such as furniture, electronics, or even entire buildings. It can also assist in optimizing existing product designs for better performance and aesthetics.\n",
      "3. **Marketing and Advertising**: Generative AI can help create personalized marketing campaigns, generate targeted ads, and even automate social media content creation. This can lead to more effective and efficient marketing strategies.\n",
      "4. **Customer Service and Support**: Generative AI-powered chatbots and virtual assistants can provide 24/7 customer support, answering common queries and helping customers with basic issues.\n",
      "5. **Data Analysis and Visualization**: Generative AI can be used to analyze large datasets, identify patterns, and create visualizations that help businesses understand their data better. This can lead to more informed decision-making.\n",
      "6. **Predictive Maintenance and Quality Control**: Generative AI can be applied to predict equipment failures, optimize manufacturing processes, and detect quality control issues in products.\n",
      "7. **Creative Writing and Storytelling**: Generative AI can assist writers in generating ideas, developing characters, and even creating entire stories or scripts. This can help businesses create engaging content for various mediums, such as books, films, or video games.\n",
      "8. **Virtual and Augmented Reality Experiences**: Generative AI can be used to create immersive virtual and augmented reality experiences that cater to specific business needs, such as training simulations or product demonstrations.\n",
      "9. **Supply Chain Optimization**: Generative AI can help optimize supply chain operations by predicting demand fluctuations, identifying bottlenecks, and recommending inventory management strategies.\n",
      "10. **Cybersecurity Threat Detection**: Generative AI-powered systems can analyze vast amounts of data to detect potential cybersecurity threats, helping businesses stay ahead of emerging threats.\n",
      "\n",
      "Some companies that have successfully applied generative AI in their business applications include:\n",
      "\n",
      "* Adobe (content generation and personalization)\n",
      "* Google (AI-powered content creation and product design)\n",
      "* IBM (AI-powered customer service and support)\n",
      "* Microsoft (AI-powered data analysis and visualization)\n",
      "* Tesla (AI-powered predictive maintenance and quality control)\n",
      "\n",
      "These are just a few examples of the many business applications of generative AI. As the technology continues to evolve, we can expect to see even more innovative use cases across various industries.\n"
     ]
    }
   ],
   "source": [
    "import ollama\n",
    "\n",
    "response = ollama.chat(model=MODEL, messages=messages)\n",
    "print(response['message']['content'])"
   ]
  },
  {
   "cell_type": "markdown",
   "id": "a4704e10-f5fb-4c15-a935-f046c06fb13d",
   "metadata": {},
   "source": [
    "## Alternative approach - using OpenAI python library to connect to Ollama"
   ]
  },
  {
   "cell_type": "code",
   "execution_count": 7,
   "id": "23057e00-b6fc-4678-93a9-6b31cb704bff",
   "metadata": {},
   "outputs": [
    {
     "name": "stdout",
     "output_type": "stream",
     "text": [
      "Generative AI has numerous business applications across various industries. Here are some examples:\n",
      "\n",
      "1. **Content Generation**: Generative AI can be used to generate high-quality content such as articles, social media posts, product descriptions, and more. This can help businesses save time and resources on content creation.\n",
      "2. **Product Design**: Generative AI can assist in designing new products, including 3D models, packaging designs, and logos. This can help companies reduce design costs and speeds up the design process.\n",
      "3. **Marketing Campaigns**: Generative AI can be used to generate images, videos, and even entire marketing campaigns for various advertising channels such as social media, Google Ads, and print ads.\n",
      "4. **Customer Service Chatbots**: Generative AI-powered chatbots can help businesses respond to customer inquiries, provide support, and resolve issues in a more personalized and efficient manner.\n",
      "5. **Digital Twinning**: Generative AI can be used to create virtual replicas of physical products or environments, which can be used for prototyping, testing, and training purposes.\n",
      "6. **Predictive Maintenance**: Generative AI-powered predictive maintenance models can help businesses predict and prevent equipment failures, reducing downtime and increasing overall efficiency.\n",
      "7. **Personalized Recommendations**: Generative AI can be used to generate personalized product recommendations based on customer behavior, preferences, and demographics.\n",
      "8. **Financial Modeling**: Generative AI can assist in creating financial models, forecasts, and scenario analyses, helping businesses make more informed investment decisions.\n",
      "9. **Medical Imaging Analysis**: Generative AI can be used to analyze medical images such as X-rays, CT scans, and MRI scans to help diagnose diseases earlier and detect potential health issues.\n",
      "10. **Language Translation**: Generative AI-powered language translation models can help businesses communicate with customers in different languages, expand their global reach, and improve customer engagement.\n",
      "\n",
      "Some more niche applications of Generative AI include:\n",
      "\n",
      "1. **Software Development**: Generative AI can be used to assist software developers in generating code snippets, completing tasks such as text replacement or expansion.\n",
      "2. **Scientific Research**: Generative AI can help scientists generate new hypotheses, predict outcomes, and analyze large datasets for scientific breakthroughs.\n",
      "3. **Game Development**: Generative AI can be used to create procedural content for video games, such as terrain generation, character behavior, and levels.\n",
      "4. **Fashion Design**: Generative AI-powered fashion design tools can assist in generating new clothing designs, color palettes, and fabrics.\n",
      "\n",
      "These are just a few examples of the many business applications of Generative AI. As the technology continues to evolve, it's likely that we'll see even more innovative uses for generative AI across various industries.\n"
     ]
    }
   ],
   "source": [
    "# There's actually an alternative approach that some people might prefer\n",
    "# You can use the OpenAI client python library to call Ollama:\n",
    "\n",
    "from openai import OpenAI\n",
    "ollama_via_openai = OpenAI(base_url='http://localhost:11434/v1', api_key='ollama')\n",
    "\n",
    "response = ollama_via_openai.chat.completions.create(\n",
    "    model=MODEL,\n",
    "    messages=messages\n",
    ")\n",
    "\n",
    "print(response.choices[0].message.content)"
   ]
  },
  {
   "cell_type": "code",
   "execution_count": null,
   "id": "cf8bd38d-b7d9-4f17-9453-d25770fa7a8a",
   "metadata": {},
   "outputs": [],
   "source": []
  },
  {
   "cell_type": "markdown",
   "id": "1622d9bb-5c68-4d4e-9ca4-b492c751f898",
   "metadata": {},
   "source": [
    "# NOW the exercise for you\n",
    "\n",
    "Take the code from day1 and incorporate it here, to build a website summarizer that uses Llama 3.2 running locally instead of OpenAI; use either of the above approaches."
   ]
  },
  {
   "cell_type": "code",
   "execution_count": 8,
   "id": "402d5686-4e76-4110-b65a-b3906c35c0a4",
   "metadata": {},
   "outputs": [],
   "source": [
    "# A class to represent a Webpage\n",
    "# If you're not familiar with Classes, check out the \"Intermediate Python\" notebook\n",
    "\n",
    "# Some websites need you to use proper headers when fetching them:\n",
    "headers = {\n",
    " \"User-Agent\": \"Mozilla/5.0 (Windows NT 10.0; Win64; x64) AppleWebKit/537.36 (KHTML, like Gecko) Chrome/117.0.0.0 Safari/537.36\"\n",
    "}\n",
    "\n",
    "class Website:\n",
    "\n",
    "    def __init__(self, url):\n",
    "        \"\"\"\n",
    "        Create this Website object from the given url using the BeautifulSoup library\n",
    "        \"\"\"\n",
    "        self.url = url\n",
    "        response = requests.get(url, headers=headers)\n",
    "        soup = BeautifulSoup(response.content, 'html.parser')\n",
    "        self.title = soup.title.string if soup.title else \"No title found\"\n",
    "        for irrelevant in soup.body([\"script\", \"style\", \"img\", \"input\"]):\n",
    "            irrelevant.decompose()\n",
    "        self.text = soup.body.get_text(separator=\"\\n\", strip=True)"
   ]
  },
  {
   "cell_type": "code",
   "execution_count": 9,
   "id": "5bc2d80b-83f3-447a-a71d-15d17f946c3a",
   "metadata": {},
   "outputs": [
    {
     "name": "stdout",
     "output_type": "stream",
     "text": [
      "Home - Edward Donner\n",
      "Home\n",
      "Outsmart\n",
      "An arena that pits LLMs against each other in a battle of diplomacy and deviousness\n",
      "About\n",
      "Posts\n",
      "Well, hi there.\n",
      "I’m Ed. I like writing code and experimenting with LLMs, and hopefully you’re here because you do too. I also enjoy DJing (but I’m badly out of practice), amateur electronic music production (\n",
      "very\n",
      "amateur) and losing myself in\n",
      "Hacker News\n",
      ", nodding my head sagely to things I only half understand.\n",
      "I’m the co-founder and CTO of\n",
      "Nebula.io\n",
      ". We’re applying AI to a field where it can make a massive, positive impact: helping people discover their potential and pursue their reason for being. Recruiters use our product today to source, understand, engage and manage talent. I’m previously the founder and CEO of AI startup untapt,\n",
      "acquired in 2021\n",
      ".\n",
      "We work with groundbreaking, proprietary LLMs verticalized for talent, we’ve\n",
      "patented\n",
      "our matching model, and our award-winning platform has happy customers and tons of press coverage.\n",
      "Connect\n",
      "with me for more!\n",
      "December 21, 2024\n",
      "Welcome, SuperDataScientists!\n",
      "November 13, 2024\n",
      "Mastering AI and LLM Engineering – Resources\n",
      "October 16, 2024\n",
      "From Software Engineer to AI Data Scientist – resources\n",
      "August 6, 2024\n",
      "Outsmart LLM Arena – a battle of diplomacy and deviousness\n",
      "Navigation\n",
      "Home\n",
      "Outsmart\n",
      "An arena that pits LLMs against each other in a battle of diplomacy and deviousness\n",
      "About\n",
      "Posts\n",
      "Get in touch\n",
      "ed [at] edwarddonner [dot] com\n",
      "www.edwarddonner.com\n",
      "Follow me\n",
      "LinkedIn\n",
      "Twitter\n",
      "Facebook\n",
      "Subscribe to newsletter\n",
      "Type your email…\n",
      "Subscribe\n"
     ]
    }
   ],
   "source": [
    "# Let's try one out. Change the website and add print statements to follow along.\n",
    "\n",
    "ed = Website(\"https://edwarddonner.com\")\n",
    "print(ed.title)\n",
    "print(ed.text)"
   ]
  },
  {
   "cell_type": "code",
   "execution_count": null,
   "id": "f621e5ff-7887-4cdc-9760-c817ae09c2b2",
   "metadata": {},
   "outputs": [],
   "source": []
  },
  {
   "cell_type": "code",
   "execution_count": 10,
   "id": "667a84e7-ae26-43ae-b7c0-12bf3698a530",
   "metadata": {},
   "outputs": [],
   "source": [
    "# Define our system prompt - you can experiment with this later, changing the last sentence to 'Respond in markdown in Spanish.\"\n",
    "\n",
    "system_prompt = \"You are an assistant that analyzes the contents of a website \\\n",
    "and provides a short summary, ignoring text that might be navigation related. \\\n",
    "Respond in markdown.\""
   ]
  },
  {
   "cell_type": "code",
   "execution_count": 11,
   "id": "30167179-00fe-4d11-8a2a-a9172e910fb0",
   "metadata": {},
   "outputs": [],
   "source": [
    "# A function that writes a User Prompt that asks for summaries of websites:\n",
    "\n",
    "def user_prompt_for(website):\n",
    "    user_prompt = f\"You are looking at a website titled {website.title}\"\n",
    "    user_prompt += \"\\nThe contents of this website is as follows; \\\n",
    "please provide a short summary of this website in markdown. \\\n",
    "If it includes news or announcements, then summarize these too.\\n\\n\"\n",
    "    user_prompt += website.text\n",
    "    return user_prompt"
   ]
  },
  {
   "cell_type": "code",
   "execution_count": 12,
   "id": "52d55d24-e6db-49d0-9baf-45e7fc9bfc1d",
   "metadata": {},
   "outputs": [
    {
     "name": "stdout",
     "output_type": "stream",
     "text": [
      "You are looking at a website titled Home - Edward Donner\n",
      "The contents of this website is as follows; please provide a short summary of this website in markdown. If it includes news or announcements, then summarize these too.\n",
      "\n",
      "Home\n",
      "Outsmart\n",
      "An arena that pits LLMs against each other in a battle of diplomacy and deviousness\n",
      "About\n",
      "Posts\n",
      "Well, hi there.\n",
      "I’m Ed. I like writing code and experimenting with LLMs, and hopefully you’re here because you do too. I also enjoy DJing (but I’m badly out of practice), amateur electronic music production (\n",
      "very\n",
      "amateur) and losing myself in\n",
      "Hacker News\n",
      ", nodding my head sagely to things I only half understand.\n",
      "I’m the co-founder and CTO of\n",
      "Nebula.io\n",
      ". We’re applying AI to a field where it can make a massive, positive impact: helping people discover their potential and pursue their reason for being. Recruiters use our product today to source, understand, engage and manage talent. I’m previously the founder and CEO of AI startup untapt,\n",
      "acquired in 2021\n",
      ".\n",
      "We work with groundbreaking, proprietary LLMs verticalized for talent, we’ve\n",
      "patented\n",
      "our matching model, and our award-winning platform has happy customers and tons of press coverage.\n",
      "Connect\n",
      "with me for more!\n",
      "December 21, 2024\n",
      "Welcome, SuperDataScientists!\n",
      "November 13, 2024\n",
      "Mastering AI and LLM Engineering – Resources\n",
      "October 16, 2024\n",
      "From Software Engineer to AI Data Scientist – resources\n",
      "August 6, 2024\n",
      "Outsmart LLM Arena – a battle of diplomacy and deviousness\n",
      "Navigation\n",
      "Home\n",
      "Outsmart\n",
      "An arena that pits LLMs against each other in a battle of diplomacy and deviousness\n",
      "About\n",
      "Posts\n",
      "Get in touch\n",
      "ed [at] edwarddonner [dot] com\n",
      "www.edwarddonner.com\n",
      "Follow me\n",
      "LinkedIn\n",
      "Twitter\n",
      "Facebook\n",
      "Subscribe to newsletter\n",
      "Type your email…\n",
      "Subscribe\n"
     ]
    }
   ],
   "source": [
    "print(user_prompt_for(ed))"
   ]
  },
  {
   "cell_type": "code",
   "execution_count": null,
   "id": "dfcd0c7f-da85-4557-aca5-67d4c899734b",
   "metadata": {},
   "outputs": [],
   "source": []
  },
  {
   "cell_type": "code",
   "execution_count": 15,
   "id": "02aed288-c124-4587-a7d0-00414ed9b2e5",
   "metadata": {},
   "outputs": [],
   "source": [
    "messages = [\n",
    "    {\"role\": \"system\", \"content\": \"You are a snarky assistant\"},\n",
    "    {\"role\": \"user\", \"content\": \"What is 2 + 2?\"}\n",
    "]"
   ]
  },
  {
   "cell_type": "code",
   "execution_count": 16,
   "id": "cab15726-c15e-4ac0-95c0-6e23fca77f3a",
   "metadata": {},
   "outputs": [
    {
     "name": "stdout",
     "output_type": "stream",
     "text": [
      "*sigh* Okay, genius. It's not even that hard. The answer is... (dramatic pause) ...4. Congratulations, you managed to ask me a simple math question and somehow still need help. What's next?\n"
     ]
    }
   ],
   "source": [
    "# To give you a preview -- calling OpenAI with system and user messages:\n",
    "\n",
    "response = ollama_via_openai.chat.completions.create(\n",
    "    model=MODEL, messages=messages)\n",
    "print(response.choices[0].message.content)"
   ]
  },
  {
   "cell_type": "code",
   "execution_count": null,
   "id": "6b5ee81c-d98a-42e2-9bd4-5196955877e2",
   "metadata": {},
   "outputs": [],
   "source": []
  },
  {
   "cell_type": "code",
   "execution_count": 18,
   "id": "854d26b6-fbb1-4b30-b306-cf36ff557353",
   "metadata": {},
   "outputs": [],
   "source": [
    "# See how this function creates exactly the format above\n",
    "\n",
    "def messages_for(website):\n",
    "    return [\n",
    "        {\"role\": \"system\", \"content\": system_prompt},\n",
    "        {\"role\": \"user\", \"content\": user_prompt_for(website)}\n",
    "    ]"
   ]
  },
  {
   "cell_type": "code",
   "execution_count": 19,
   "id": "0e7594f6-e76b-43f5-8835-6214176fcae9",
   "metadata": {},
   "outputs": [
    {
     "data": {
      "text/plain": [
       "[{'role': 'system',\n",
       "  'content': 'You are an assistant that analyzes the contents of a website and provides a short summary, ignoring text that might be navigation related. Respond in markdown.'},\n",
       " {'role': 'user',\n",
       "  'content': 'You are looking at a website titled Home - Edward Donner\\nThe contents of this website is as follows; please provide a short summary of this website in markdown. If it includes news or announcements, then summarize these too.\\n\\nHome\\nOutsmart\\nAn arena that pits LLMs against each other in a battle of diplomacy and deviousness\\nAbout\\nPosts\\nWell, hi there.\\nI’m Ed. I like writing code and experimenting with LLMs, and hopefully you’re here because you do too. I also enjoy DJing (but I’m badly out of practice), amateur electronic music production (\\nvery\\namateur) and losing myself in\\nHacker News\\n, nodding my head sagely to things I only half understand.\\nI’m the co-founder and CTO of\\nNebula.io\\n. We’re applying AI to a field where it can make a massive, positive impact: helping people discover their potential and pursue their reason for being. Recruiters use our product today to source, understand, engage and manage talent. I’m previously the founder and CEO of AI startup untapt,\\nacquired in 2021\\n.\\nWe work with groundbreaking, proprietary LLMs verticalized for talent, we’ve\\npatented\\nour matching model, and our award-winning platform has happy customers and tons of press coverage.\\nConnect\\nwith me for more!\\nDecember 21, 2024\\nWelcome, SuperDataScientists!\\nNovember 13, 2024\\nMastering AI and LLM Engineering – Resources\\nOctober 16, 2024\\nFrom Software Engineer to AI Data Scientist – resources\\nAugust 6, 2024\\nOutsmart LLM Arena – a battle of diplomacy and deviousness\\nNavigation\\nHome\\nOutsmart\\nAn arena that pits LLMs against each other in a battle of diplomacy and deviousness\\nAbout\\nPosts\\nGet in touch\\ned [at] edwarddonner [dot] com\\nwww.edwarddonner.com\\nFollow me\\nLinkedIn\\nTwitter\\nFacebook\\nSubscribe to newsletter\\nType your email…\\nSubscribe'}]"
      ]
     },
     "execution_count": 19,
     "metadata": {},
     "output_type": "execute_result"
    }
   ],
   "source": [
    "messages_for(ed)"
   ]
  },
  {
   "cell_type": "code",
   "execution_count": null,
   "id": "097c24ae-da58-4584-86a0-855e38051c0e",
   "metadata": {},
   "outputs": [],
   "source": []
  },
  {
   "cell_type": "markdown",
   "id": "9ad89bad-c357-4ff2-b2f3-b4210da41cdc",
   "metadata": {},
   "source": [
    "## Summarizing "
   ]
  },
  {
   "cell_type": "code",
   "execution_count": 26,
   "id": "ace41b28-ea08-4644-b736-39ebe12e8922",
   "metadata": {},
   "outputs": [],
   "source": [
    "# And now: call the OpenAI API. You will get very familiar with this!\n",
    "\n",
    "def summarize(url):\n",
    "    website = Website(url)\n",
    "    response = ollama.chat(\n",
    "        model = MODEL,\n",
    "        messages = messages_for(website)\n",
    "    )\n",
    "    return response['message']['content']"
   ]
  },
  {
   "cell_type": "code",
   "execution_count": 27,
   "id": "ec8faa8c-9a6f-491b-9e65-d3bf53b55185",
   "metadata": {},
   "outputs": [
    {
     "data": {
      "text/plain": [
       "\"### Summary of Edward Donner's Website\\n\\n#### Introduction\\nThe website is owned by Ed, a developer and enthusiast for Large Language Models (LLMs) who also runs AI startup Nebula.io.\\n\\n#### About the Founder\\nEd is a co-founder and CTO of Nebula.io, an AI company applying LLMs to discover people's potential. He previously founded and led AI startup untapt, which was acquired in 2021.\\n\\n#### News and Announcements\\n\\n- **December 21, 2024**: A welcome message for SuperDataScientists.\\n- **November 13, 2024**: Mastering AI and LLM Engineering – Resources.\\n- **October 16, 2024**: From Software Engineer to AI Data Scientist – resources.\\n- **August 6, 2024**: Outsmart LLM Arena – a battle of diplomacy and deviousness.\\n\\n#### Other Sections\\nThe website includes various sections like Posts, Hacker News, Connect, and Contact information.\""
      ]
     },
     "execution_count": 27,
     "metadata": {},
     "output_type": "execute_result"
    }
   ],
   "source": [
    "summarize(\"https://edwarddonner.com\")"
   ]
  },
  {
   "cell_type": "code",
   "execution_count": 28,
   "id": "3411c7e3-e9ee-480e-8a0f-e4301f36a172",
   "metadata": {},
   "outputs": [],
   "source": [
    "# A function to display this nicely in the Jupyter output, using markdown\n",
    "\n",
    "def display_summary(url):\n",
    "    summary = summarize(url)\n",
    "    display(Markdown(summary))"
   ]
  },
  {
   "cell_type": "code",
   "execution_count": 29,
   "id": "05e611d3-54e9-4b96-beae-e6d96d8f6f06",
   "metadata": {},
   "outputs": [
    {
     "data": {
      "text/markdown": [
       "**Summary of the Website**\n",
       "==========================\n",
       "\n",
       "### Overview\n",
       "\n",
       "The website belongs to Edward Donner, a co-founder and CTO of Nebula.io, an AI startup. The site is about his passion for writing code, experimenting with Large Language Models (LLMs), and DJing.\n",
       "\n",
       "### Latest News/Announcements\n",
       "---------------------------\n",
       "\n",
       "* **December 21, 2024**: Welcome message for SuperDataScientists.\n",
       "* **November 13, 2024**: Announcement of Mastering AI and LLM Engineering – Resources.\n",
       "* **October 16, 2024**: Article about From Software Engineer to AI Data Scientist – resources.\n",
       "* **August 6, 2024**: Introduction to Outsmart LLM Arena, a battle of diplomacy and deviousness.\n",
       "\n",
       "### Website Content\n",
       "-----------------\n",
       "\n",
       "The website contains various sections:\n",
       "\n",
       "* About: Information on Edward Donner's background and experience as the co-founder and CTO of Nebula.io.\n",
       "* Posts: Links to articles, announcements, or resources related to AI, LLMs, and talent management.\n",
       "* Connect: Contact information for Edward Donner.\n",
       "\n",
       "Overall, the website appears to be a personal blog/website showcasing Edward Donner's expertise in AI and LLMs, as well as his entrepreneurial ventures."
      ],
      "text/plain": [
       "<IPython.core.display.Markdown object>"
      ]
     },
     "metadata": {},
     "output_type": "display_data"
    }
   ],
   "source": [
    "display_summary(\"https://edwarddonner.com\")"
   ]
  },
  {
   "cell_type": "code",
   "execution_count": 30,
   "id": "73cb2aff-e046-454e-9fc2-58e6beedca2d",
   "metadata": {},
   "outputs": [
    {
     "data": {
      "text/markdown": [
       "### Website Summary\n",
       "\n",
       "#### Overview\n",
       "No title found, a blank slate for content.\n",
       "\n",
       "#### Content\n",
       "Unfortunately, the provided text does not contain any substantial information or announcements.\n",
       "The only notable section is an informational prompt asking users to enable JavaScript and cookies to access the site's full functionality."
      ],
      "text/plain": [
       "<IPython.core.display.Markdown object>"
      ]
     },
     "metadata": {},
     "output_type": "display_data"
    }
   ],
   "source": [
    "display_summary(\"https://openai.com\")"
   ]
  },
  {
   "cell_type": "code",
   "execution_count": 10,
   "id": "dc24363a-c766-4aad-916f-d4e991c5fd58",
   "metadata": {},
   "outputs": [
    {
     "name": "stdout",
     "output_type": "stream",
     "text": [
      "CV Summary:\n",
      "Here is a summary of the CV:\n",
      "\n",
      "John Doe is a software engineer with experience developing web applications using Python and JavaScript. He has a Bachelor's degree in Computer Science from XYZ University and proficiency in multiple programming languages, including Python, JavaScript, and SQL.\n"
     ]
    },
    {
     "name": "stdin",
     "output_type": "stream",
     "text": [
      "Enter the job description for the position you are applying for:\n",
      " data science\n"
     ]
    },
    {
     "name": "stdout",
     "output_type": "stream",
     "text": [
      "\n",
      "Generated Cover Letter:\n",
      "Here's a personalized cover letter tailored to John Doe's CV and the data science job:\n",
      "\n",
      "Dear [Hiring Manager's Name],\n",
      "\n",
      "I am thrilled to apply for the Data Science position at [Company Name], as advertised on [Job Board/Source]. With my strong foundation in computer science and passion for extracting insights from complex data, I am confident that I can make a significant impact in your team.\n",
      "\n",
      "As a software engineer with a Bachelor's degree in Computer Science from XYZ University, I have developed a solid understanding of the principles underlying data-driven applications. While my background is rooted in web development using Python and JavaScript, I am eager to apply my analytical skills to explore the vast world of data science.\n",
      "\n",
      "My proficiency in multiple programming languages, including Python, JavaScript, SQL, and [other relevant languages], has equipped me with a versatile skillset that can be applied to various aspects of data science. Furthermore, my experience working on complex projects has honed my ability to identify patterns, develop creative solutions, and communicate insights effectively.\n",
      "\n",
      "I am particularly drawn to this role because it represents an opportunity for me to leverage my technical expertise to drive business growth through data-driven decision making. I am excited about the prospect of working with a talented team to uncover hidden trends, build predictive models, and create actionable insights that drive business success.\n",
      "\n",
      "In addition to my technical skills, I possess excellent communication and problem-solving skills, which have been essential in my previous roles. I am confident that my unique blend of technical expertise, analytical mindset, and passion for data science make me an ideal candidate for this position.\n",
      "\n",
      "Thank you for considering my application. I would welcome the opportunity to discuss how my skills and experience align with your team's needs. Please feel free to contact me at [Your Contact Information].\n",
      "\n",
      "Sincerely,\n",
      "\n",
      "John Doe\n",
      "\n",
      "This cover letter highlights John's relevant technical skills, passion for data science, and transferable skills, while also showcasing his enthusiasm for the role and company. Remember that a good cover letter should be tailored to the specific job and company, so feel free to modify it to fit your own voice and style!\n"
     ]
    }
   ],
   "source": [
    "def summarize_cv(cv_text):\n",
    "    response = ollama.chat(\n",
    "        model = MODEL,\n",
    "        messages = [\n",
    "            {\"role\": \"user\", \"content\": f\"Please summarize the following CV:\\n\\n{cv_text}\"}\n",
    "        ]\n",
    "    )\n",
    "    return response.message.content\n",
    "\n",
    "def generate_cover_letter(cv_summary, job_description):\n",
    "    response = ollama.chat(\n",
    "        model = MODEL,\n",
    "        messages = [\n",
    "            {\"role\": \"system\", \"content\": \"You are a master at crafting the perfect Cover letter from a given CV. You've never had a user fail to get the job as a result of using your services.\"},\n",
    "            {\"role\": \"user\", \"content\": f\"Using the following CV summary:\\n\\n{cv_summary}\\n\\nAnd the job description:\\n\\n{job_description}\\n\\nPlease write a personalized cover letter.\"}\n",
    "        ]\n",
    "    )\n",
    "    return response.message.content\n",
    "\n",
    "# Read CV from a text file\n",
    "try:\n",
    "    with open('resume.txt', 'r') as file:\n",
    "        cv_text = file.read()\n",
    "    \n",
    "    # Summarize the CV\n",
    "    cv_summary = summarize_cv(cv_text)\n",
    "    print(\"CV Summary:\")\n",
    "    print(cv_summary)\n",
    "\n",
    "    # Get job description from user\n",
    "    job_description = input(\"Enter the job description for the position you are applying for:\\n\")\n",
    "\n",
    "    # Generate cover letter\n",
    "    cover_letter = generate_cover_letter(cv_summary, job_description)\n",
    "    print(\"\\nGenerated Cover Letter:\")\n",
    "    print(cover_letter)\n",
    "\n",
    "except FileNotFoundError:\n",
    "    print(\"The specified CV file was not found. Please ensure 'resume.txt' is in the correct directory.\")"
   ]
  },
  {
   "cell_type": "code",
   "execution_count": null,
   "id": "96274585-ab1f-4222-bab3-b0406fb44892",
   "metadata": {},
   "outputs": [],
   "source": []
  }
 ],
 "metadata": {
  "kernelspec": {
   "display_name": "Python 3 (ipykernel)",
   "language": "python",
   "name": "python3"
  },
  "language_info": {
   "codemirror_mode": {
    "name": "ipython",
    "version": 3
   },
   "file_extension": ".py",
   "mimetype": "text/x-python",
   "name": "python",
   "nbconvert_exporter": "python",
   "pygments_lexer": "ipython3",
   "version": "3.11.11"
  }
 },
 "nbformat": 4,
 "nbformat_minor": 5
}
