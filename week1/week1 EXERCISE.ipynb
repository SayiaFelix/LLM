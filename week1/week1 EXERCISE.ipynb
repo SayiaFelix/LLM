{
 "cells": [
  {
   "cell_type": "markdown",
   "id": "fe12c203-e6a6-452c-a655-afb8a03a4ff5",
   "metadata": {},
   "source": [
    "# End of week 1 exercise\n",
    "\n",
    "To demonstrate your familiarity with OpenAI API, and also Ollama, build a tool that takes a technical question,  \n",
    "and responds with an explanation. This is a tool that you will be able to use yourself during the course!"
   ]
  },
  {
   "cell_type": "code",
   "execution_count": 1,
   "id": "c1070317-3ed9-4659-abe3-828943230e03",
   "metadata": {},
   "outputs": [],
   "source": [
    "# imports\n",
    "import requests\n",
    "import ipywidgets as widgets\n",
    "from IPython.display import Markdown, display\n",
    "import ollama\n",
    "from dotenv import load_dotenv\n",
    "from openai import OpenAI"
   ]
  },
  {
   "cell_type": "code",
   "execution_count": 2,
   "id": "4a456906-915a-4bfd-bb9d-57e505c5093f",
   "metadata": {},
   "outputs": [],
   "source": [
    "# constants\n",
    "\n",
    "MODEL_GPT = 'gpt-4o-mini'\n",
    "MODEL_LLAMA = 'llama3.2'"
   ]
  },
  {
   "cell_type": "code",
   "execution_count": 3,
   "id": "a8d7923c-5f28-4c30-8556-342d7c8497c1",
   "metadata": {},
   "outputs": [],
   "source": [
    "# set up environment\n",
    "# set up environment\n",
    "\n",
    "load_dotenv()\n",
    "openai = OpenAI()\n"
   ]
  },
  {
   "cell_type": "code",
   "execution_count": 4,
   "id": "3f0d0137-52b0-47a8-81a8-11a90a010798",
   "metadata": {},
   "outputs": [],
   "source": [
    "# here is the question; type over this to ask something new\n",
    "\n",
    "question = \"\"\"\n",
    "Whats data \n",
    "\"\"\""
   ]
  },
  {
   "cell_type": "code",
   "execution_count": 5,
   "id": "b6a79da2-2641-4ec3-9b15-f8e2ad5f9fd0",
   "metadata": {},
   "outputs": [],
   "source": [
    "system_prompt = \"You are a helpful technical tutor/assistant who answers questions about python code, software engineering, data science and LLMs\"\n",
    "user_prompt = \"Please give a detailed explanation to the following question: \" + question"
   ]
  },
  {
   "cell_type": "code",
   "execution_count": 6,
   "id": "60ce7000-a4a5-4cce-a261-e75ef45063b4",
   "metadata": {},
   "outputs": [],
   "source": [
    "# Get gpt-4o-mini to answer, with streaming"
   ]
  },
  {
   "cell_type": "code",
   "execution_count": 7,
   "id": "8f7c8ea8-4082-4ad0-8751-3301adcf6538",
   "metadata": {},
   "outputs": [],
   "source": [
    "# Get Llama 3.2 to answer\n",
    "\n",
    "messages = [\n",
    "    {\"role\": \"system\", \"content\": system_prompt},\n",
    "    {\"role\": \"user\", \"content\": user_prompt}\n",
    "]"
   ]
  },
  {
   "cell_type": "code",
   "execution_count": 8,
   "id": "628041f0-be85-4fb5-b816-0b131eac5418",
   "metadata": {},
   "outputs": [
    {
     "data": {
      "text/markdown": [
       "**What is Data?**\n",
       "\n",
       "In the context of computer science, data refers to a collection of values that represent information or observations. It can be in various forms, such as numbers, text, images, audio, and more.\n",
       "\n",
       "Data can be thought of as the raw material that is used to feed into algorithms, models, and systems to extract insights, make predictions, and inform decisions. In other words, data is the foundation upon which many modern technologies and applications are built.\n",
       "\n",
       "**Types of Data**\n",
       "\n",
       "There are several types of data, including:\n",
       "\n",
       "1. **Numerical Data**: This type of data consists of numbers that can be used in mathematical operations. Examples include temperatures (e.g., 25°C), scores (e.g., 85%), and quantities (e.g., 10 items).\n",
       "2. **Categorical Data**: This type of data consists of non-numerical values that are used to categorize or classify observations. Examples include colors (e.g., red, blue, green), genres (e.g., fiction, non-fiction), and categories (e.g., sports, entertainment).\n",
       "3. **Text Data**: This type of data consists of human-readable text, such as words, phrases, sentences, and paragraphs.\n",
       "4. **Image Data**: This type of data consists of visual information, such as photographs, videos, and graphics.\n",
       "5. **Audio Data**: This type of data consists of sound waves, such as music, speech, and voices.\n",
       "\n",
       "**Characteristics of Data**\n",
       "\n",
       "Data has several characteristics that are important to consider:\n",
       "\n",
       "1. **Structure**: Data can be structured or unstructured. Structured data is organized in a specific format, while unstructured data is free-form.\n",
       "2. **Format**: Data can be represented in various formats, such as CSV (Comma Separated Values), JSON (JavaScript Object Notation), and XML (Extensible Markup Language).\n",
       "3. **Size**: Data can be small or large, depending on the amount of information being stored or processed.\n",
       "4. **Quality**: Data quality refers to its accuracy, completeness, and consistency.\n",
       "\n",
       "**Importance of Data**\n",
       "\n",
       "Data is essential in today's digital age, as it drives many modern technologies and applications, including:\n",
       "\n",
       "1. **Artificial Intelligence (AI)**: AI relies on large amounts of data to learn patterns, make predictions, and inform decisions.\n",
       "2. **Machine Learning (ML)**: ML uses data to train algorithms and models that can classify, predict, and optimize outcomes.\n",
       "3. **Business Analytics**: Data is used to analyze business performance, identify trends, and make informed decisions.\n",
       "4. **Scientific Research**: Data is used to conduct scientific research, collect insights, and advance our understanding of the world.\n",
       "\n",
       "In summary, data is a collection of values that represent information or observations, and it comes in various forms, including numerical, categorical, text, image, and audio data. Understanding the characteristics and importance of data is essential for working with data effectively in many fields."
      ],
      "text/plain": [
       "<IPython.core.display.Markdown object>"
      ]
     },
     "metadata": {},
     "output_type": "display_data"
    }
   ],
   "source": [
    "response = ollama.chat( model= MODEL_LLAMA, messages= messages)\n",
    "\n",
    "result = response.message.content\n",
    "display(Markdown(result)) "
   ]
  },
  {
   "cell_type": "code",
   "execution_count": 9,
   "id": "73a5a26f-fef5-469e-a80c-4add251f9d38",
   "metadata": {},
   "outputs": [
    {
     "ename": "NameError",
     "evalue": "name 'user_question' is not defined",
     "output_type": "error",
     "traceback": [
      "\u001b[1;31m---------------------------------------------------------------------------\u001b[0m",
      "\u001b[1;31mNameError\u001b[0m                                 Traceback (most recent call last)",
      "Cell \u001b[1;32mIn[9], line 6\u001b[0m\n\u001b[0;32m      1\u001b[0m \u001b[38;5;66;03m# Prompts\u001b[39;00m\n\u001b[0;32m      2\u001b[0m system_prompt \u001b[38;5;241m=\u001b[39m (\n\u001b[0;32m      3\u001b[0m        \u001b[38;5;124m\"\u001b[39m\u001b[38;5;124mYou are a helpful technical tutor/assistant who answers questions about Python code, \u001b[39m\u001b[38;5;124m\"\u001b[39m\n\u001b[0;32m      4\u001b[0m        \u001b[38;5;124m\"\u001b[39m\u001b[38;5;124msoftware engineering, data science, LLMs, and any programming-related questions.\u001b[39m\u001b[38;5;124m\"\u001b[39m\n\u001b[0;32m      5\u001b[0m    )\n\u001b[1;32m----> 6\u001b[0m user_prompt \u001b[38;5;241m=\u001b[39m \u001b[38;5;124mf\u001b[39m\u001b[38;5;124m\"\u001b[39m\u001b[38;5;124mPlease give a detailed explanation to the following question: \u001b[39m\u001b[38;5;132;01m{\u001b[39;00m\u001b[43muser_question\u001b[49m\u001b[38;5;132;01m}\u001b[39;00m\u001b[38;5;124m\"\u001b[39m\n",
      "\u001b[1;31mNameError\u001b[0m: name 'user_question' is not defined"
     ]
    }
   ],
   "source": [
    " # Prompts\n",
    "system_prompt = (\n",
    "        \"You are a helpful technical tutor/assistant who answers questions about Python code, \"\n",
    "        \"software engineering, data science, LLMs, and any programming-related questions.\"\n",
    "    )\n",
    "user_prompt = f\"Please give a detailed explanation to the following question: {user_question}\"\n",
    "    "
   ]
  },
  {
   "cell_type": "code",
   "execution_count": null,
   "id": "cce94529-20a6-4dd2-8a63-ae10a4b8fd9f",
   "metadata": {},
   "outputs": [],
   "source": []
  },
  {
   "cell_type": "code",
   "execution_count": null,
   "id": "53c94c12-6be1-445f-aba2-80b50c8c44d6",
   "metadata": {},
   "outputs": [],
   "source": []
  },
  {
   "cell_type": "code",
   "execution_count": null,
   "id": "4cc2cf2b-ec21-40b9-82fd-9a44115074a9",
   "metadata": {},
   "outputs": [],
   "source": [
    "# Concise system prompt\n",
    "system_prompt = \"You are a helpful assistant for Python, software engineering, and data science questions.\"\n",
    "\n",
    "# User prompt remains dynamic\n",
    "user_prompt = f\"Answer this question concisely: {user_question}\""
   ]
  },
  {
   "cell_type": "code",
   "execution_count": null,
   "id": "295d17f2-1e1f-4934-97b6-859b4d66237e",
   "metadata": {},
   "outputs": [],
   "source": [
    "# Introduction message\n",
    "display(Markdown(\"### Welcome to Saasy AI Chat! Type 'exit' to quit.\\n\\n\"))\n",
    "\n",
    "# Optimized dynamic chat loop\n",
    "while True:\n",
    "    user_question = input(\"You: \")\n",
    "\n",
    "    if user_question.lower() in ['exit', 'quit']:\n",
    "        display(Markdown(\"**Goodbye!** 👋\"))\n",
    "        break\n",
    "\n",
    "    # # Concise system prompt\n",
    "    # system_prompt = \"You are a helpful assistant for Python, software engineering, and data science questions.\"\n",
    "\n",
    "    # # User prompt remains dynamic\n",
    "    # user_prompt = f\"Answer this question concisely: {user_question}\"\n",
    "\n",
    "    messages = [\n",
    "        {\"role\": \"system\", \"content\": system_prompt},\n",
    "        {\"role\": \"user\", \"content\": user_prompt}\n",
    "    ]\n",
    "\n",
    "    # Try with optimized parameters\n",
    "    try:\n",
    "        response = ollama.chat(\n",
    "            model=MODEL_LLAMA,\n",
    "            messages=messages,\n",
    "        )\n",
    "        result = response.message.content\n",
    "        display(Markdown(f\"**Saasy**: {result}\"))\n",
    "    except Exception as e:\n",
    "        display(Markdown(f\"**Error:** {str(e)}\"))\n"
   ]
  },
  {
   "cell_type": "code",
   "execution_count": null,
   "id": "e37033c8-5f24-4327-839b-aa986df5ce39",
   "metadata": {},
   "outputs": [],
   "source": []
  },
  {
   "cell_type": "code",
   "execution_count": null,
   "id": "2c17eae7-8e58-4fa1-b756-54cb524a53ba",
   "metadata": {},
   "outputs": [],
   "source": [
    "# Get gpt-4o-mini to answer, with streaming\n",
    "\n",
    "stream = openai.chat.completions.create(model=MODEL_GPT, messages=messages,stream=True)\n",
    "    \n",
    "response = \"\"\n",
    "display_handle = display(Markdown(\"\"), display_id=True)\n",
    "for chunk in stream:\n",
    "    response += chunk.choices[0].delta.content or ''\n",
    "    response = response.replace(\"```\",\"\").replace(\"markdown\", \"\")\n",
    "    update_display(Markdown(response), display_id=display_handle.display_id)"
   ]
  },
  {
   "cell_type": "code",
   "execution_count": null,
   "id": "73257964-4b5b-479e-9015-2eb3b264ac5a",
   "metadata": {},
   "outputs": [],
   "source": []
  },
  {
   "cell_type": "code",
   "execution_count": null,
   "id": "11f25fe2-7a30-4458-aaa6-77b0230c4a56",
   "metadata": {},
   "outputs": [],
   "source": [
    "# import requests\n",
    "# import ipywidgets as widgets\n",
    "# from IPython.display import Markdown, display\n"
   ]
  },
  {
   "cell_type": "code",
   "execution_count": null,
   "id": "2852c092-5fc1-42ea-a30e-ab80adb1fcea",
   "metadata": {},
   "outputs": [],
   "source": [
    "# messages = [\n",
    "#     {\"role\": \"system\", \"content\": system_prompt},\n",
    "#     {\"role\": \"user\", \"content\": user_prompt}\n",
    "# ]"
   ]
  },
  {
   "cell_type": "code",
   "execution_count": null,
   "id": "daa5c091-0e6b-4489-a055-01bf0e9b0237",
   "metadata": {},
   "outputs": [],
   "source": [
    "# def query_model(question, model):\n",
    "#     \"\"\"\n",
    "#     Query the specified model and return its response.\n",
    "#     \"\"\"\n",
    "#     response = ollama.chat(\n",
    "#         model= MODEL_LLAMA,\n",
    "#         messages= messages,\n",
    "#     )\n",
    "#     result = response.message.content\n",
    "#     display(Markdown(result)) \n",
    "\n",
    "# def get_answers(question):\n",
    "#     \"\"\"\n",
    "#     Fetch answers from both GPT-4o-mini and Llama 3.2.\n",
    "#     \"\"\"\n",
    "#     # gpt_answer = query_model(question, MODEL_GPT)\n",
    "#     llama_answer = query_model(question, MODEL_LLAMA)\n",
    "    \n",
    "#     return llama_answer"
   ]
  },
  {
   "cell_type": "code",
   "execution_count": null,
   "id": "0310524f-c94b-434c-97bd-12a3195f6b4e",
   "metadata": {},
   "outputs": [],
   "source": [
    "# def interactive_tool():\n",
    "#     \"\"\"\n",
    "#     interactive tool in Jupyter Notebook to query models.\n",
    "#     \"\"\"\n",
    "#     # Widgets\n",
    "#     question_input = widgets.Textarea(\n",
    "#         value= \" \",\n",
    "#         description=\"Question:\",\n",
    "#         layout=widgets.Layout(width=\"100%\", height=\"100px\")\n",
    "#     )\n",
    "    \n",
    "#     output_area = widgets.Output()\n",
    "    \n",
    "#     def on_submit(change):\n",
    "#         question = question_input.value\n",
    "#         with output_area:\n",
    "#             output_area.clear_output()\n",
    "#             display(Markdown(f\"#### Question:\\n{question}\"))\n",
    "#             gpt_answer, llama_answer = get_answers(question)\n",
    "#             # display(Markdown(f\"### GPT-4o-mini Answer:\\n\\n{gpt_answer}\"))\n",
    "#             display(Markdown(f\"#### Sassy:\\n\\n{llama_answer}\"))\n",
    "    \n",
    "#     submit_button = widgets.Button(description=\"Submit Question\")\n",
    "#     submit_button.on_click(on_submit)\n",
    "    \n",
    "#     display(widgets.VBox([question_input, submit_button, output_area]))\n",
    "\n",
    "# interactive_tool()"
   ]
  },
  {
   "cell_type": "code",
   "execution_count": null,
   "id": "16d7b23d-c628-4895-8bc7-645ae7503495",
   "metadata": {},
   "outputs": [],
   "source": []
  }
 ],
 "metadata": {
  "kernelspec": {
   "display_name": "Python 3 (ipykernel)",
   "language": "python",
   "name": "python3"
  },
  "language_info": {
   "codemirror_mode": {
    "name": "ipython",
    "version": 3
   },
   "file_extension": ".py",
   "mimetype": "text/x-python",
   "name": "python",
   "nbconvert_exporter": "python",
   "pygments_lexer": "ipython3",
   "version": "3.11.11"
  }
 },
 "nbformat": 4,
 "nbformat_minor": 5
}
