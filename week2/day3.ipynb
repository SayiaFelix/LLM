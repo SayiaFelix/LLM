{
 "cells": [
  {
   "cell_type": "markdown",
   "id": "75e2ef28-594f-4c18-9d22-c6b8cd40ead2",
   "metadata": {},
   "source": [
    "# Day 3 - Conversational AI - aka Chatbot!"
   ]
  },
  {
   "cell_type": "code",
   "execution_count": 1,
   "id": "70e39cd8-ec79-4e3e-9c26-5659d42d0861",
   "metadata": {},
   "outputs": [],
   "source": [
    "# imports\n",
    "\n",
    "import os\n",
    "from dotenv import load_dotenv\n",
    "from openai import OpenAI\n",
    "import gradio as gr\n",
    "import ollama"
   ]
  },
  {
   "cell_type": "code",
   "execution_count": 2,
   "id": "231605aa-fccb-447e-89cf-8b187444536a",
   "metadata": {},
   "outputs": [
    {
     "name": "stdout",
     "output_type": "stream",
     "text": [
      "OpenAI API Key exists and begins sk-proj-\n",
      "Anthropic API Key not set\n",
      "Google API Key not set\n"
     ]
    }
   ],
   "source": [
    "# Load environment variables in a file called .env\n",
    "# Print the key prefixes to help with any debugging\n",
    "\n",
    "load_dotenv()\n",
    "openai_api_key = os.getenv('OPENAI_API_KEY')\n",
    "anthropic_api_key = os.getenv('ANTHROPIC_API_KEY')\n",
    "google_api_key = os.getenv('GOOGLE_API_KEY')\n",
    "\n",
    "if openai_api_key:\n",
    "    print(f\"OpenAI API Key exists and begins {openai_api_key[:8]}\")\n",
    "else:\n",
    "    print(\"OpenAI API Key not set\")\n",
    "    \n",
    "if anthropic_api_key:\n",
    "    print(f\"Anthropic API Key exists and begins {anthropic_api_key[:7]}\")\n",
    "else:\n",
    "    print(\"Anthropic API Key not set\")\n",
    "\n",
    "if google_api_key:\n",
    "    print(f\"Google API Key exists and begins {google_api_key[:8]}\")\n",
    "else:\n",
    "    print(\"Google API Key not set\")"
   ]
  },
  {
   "cell_type": "code",
   "execution_count": 7,
   "id": "6541d58e-2297-4de1-b1f7-77da1b98b8bb",
   "metadata": {},
   "outputs": [],
   "source": [
    "# Initialize\n",
    "\n",
    "openai = OpenAI()\n",
    "MODEL_GPT = 'gpt-4o-mini'\n",
    "MODEL_LLAMA = 'llama3.2'"
   ]
  },
  {
   "cell_type": "code",
   "execution_count": 8,
   "id": "e16839b5-c03b-4d9d-add6-87a0f6f37575",
   "metadata": {},
   "outputs": [],
   "source": [
    "system_message = \"You are a helpful assistant. Just give your answer in briefly.\""
   ]
  },
  {
   "cell_type": "markdown",
   "id": "98e97227-f162-4d1a-a0b2-345ff248cbe7",
   "metadata": {},
   "source": [
    "# Please read this! A change from the video:\n",
    "\n",
    "In the video, I explain how we now need to write a function called:\n",
    "\n",
    "`chat(message, history)`\n",
    "\n",
    "Which expects to receive `history` in a particular format, which we need to map to the OpenAI format before we call OpenAI:\n",
    "\n",
    "```\n",
    "[\n",
    "    {\"role\": \"system\", \"content\": \"system message here\"},\n",
    "    {\"role\": \"user\", \"content\": \"first user prompt here\"},\n",
    "    {\"role\": \"assistant\", \"content\": \"the assistant's response\"},\n",
    "    {\"role\": \"user\", \"content\": \"the new user prompt\"},\n",
    "]\n",
    "```\n",
    "\n",
    "But Gradio has been upgraded! Now it will pass in `history` in the exact OpenAI format, perfect for us to send straight to OpenAI.\n",
    "\n",
    "So our work just got easier!\n",
    "\n",
    "We will write a function `chat(message, history)` where:  \n",
    "**message** is the prompt to use  \n",
    "**history** is the past conversation, in OpenAI format  \n",
    "\n",
    "We will combine the system message, history and latest message, then call OpenAI."
   ]
  },
  {
   "cell_type": "code",
   "execution_count": 12,
   "id": "1eacc8a4-4b48-4358-9e06-ce0020041bc1",
   "metadata": {},
   "outputs": [],
   "source": [
    "# Simpler than in my video - we can easily create this function that calls OpenAI\n",
    "# It's now just 1 line of code to prepare the input to OpenAI!\n",
    "\n",
    "def chat(message, history):\n",
    "    messages = [{\"role\": \"system\", \"content\": system_message}] + history + [{\"role\": \"user\", \"content\": message}]\n",
    "\n",
    "    print(\"History is:\")\n",
    "    print(history)\n",
    "    print(\"And messages is:\")\n",
    "    print(messages)\n",
    "\n",
    "    stream = openai.chat.completions.create(model=MODEL_GPT, messages=messages, stream=True)\n",
    "\n",
    "    response = \"\"\n",
    "    for chunk in stream:\n",
    "        response += chunk.choices[0].delta.content or ''\n",
    "        yield response"
   ]
  },
  {
   "cell_type": "code",
   "execution_count": 13,
   "id": "f398e020-223b-4662-8146-22abb7e8c987",
   "metadata": {},
   "outputs": [
    {
     "name": "stdout",
     "output_type": "stream",
     "text": [
      "* Running on local URL:  http://127.0.0.1:7883\n",
      "\n",
      "To create a public link, set `share=True` in `launch()`.\n"
     ]
    },
    {
     "data": {
      "text/html": [
       "<div><iframe src=\"http://127.0.0.1:7883/\" width=\"100%\" height=\"500\" allow=\"autoplay; camera; microphone; clipboard-read; clipboard-write;\" frameborder=\"0\" allowfullscreen></iframe></div>"
      ],
      "text/plain": [
       "<IPython.core.display.HTML object>"
      ]
     },
     "metadata": {},
     "output_type": "display_data"
    },
    {
     "data": {
      "text/plain": []
     },
     "execution_count": 13,
     "metadata": {},
     "output_type": "execute_result"
    },
    {
     "name": "stdout",
     "output_type": "stream",
     "text": [
      "History is:\n",
      "[]\n",
      "And messages is:\n",
      "[{'role': 'system', 'content': 'You are a helpful assistant. Just give your answer in briefly.'}, {'role': 'user', 'content': 'hello'}]\n",
      "History is:\n",
      "[{'role': 'user', 'metadata': {'title': None, 'id': None, 'parent_id': None, 'duration': None, 'status': None}, 'content': 'hello', 'options': None}, {'role': 'assistant', 'metadata': {'title': None, 'id': None, 'parent_id': None, 'duration': None, 'status': None}, 'content': 'Hello! How can I assist you today?', 'options': None}]\n",
      "And messages is:\n",
      "[{'role': 'system', 'content': 'You are a helpful assistant. Just give your answer in briefly.'}, {'role': 'user', 'metadata': {'title': None, 'id': None, 'parent_id': None, 'duration': None, 'status': None}, 'content': 'hello', 'options': None}, {'role': 'assistant', 'metadata': {'title': None, 'id': None, 'parent_id': None, 'duration': None, 'status': None}, 'content': 'Hello! How can I assist you today?', 'options': None}, {'role': 'user', 'content': 'whats Data Science'}]\n",
      "History is:\n",
      "[{'role': 'user', 'metadata': {'title': None, 'id': None, 'parent_id': None, 'duration': None, 'status': None}, 'content': 'hello', 'options': None}, {'role': 'assistant', 'metadata': {'title': None, 'id': None, 'parent_id': None, 'duration': None, 'status': None}, 'content': 'Hello! How can I assist you today?', 'options': None}, {'role': 'user', 'metadata': {'title': None, 'id': None, 'parent_id': None, 'duration': None, 'status': None}, 'content': 'whats Data Science', 'options': None}, {'role': 'assistant', 'metadata': {'title': None, 'id': None, 'parent_id': None, 'duration': None, 'status': None}, 'content': 'Data Science is an interdisciplinary field that combines statistics, mathematics, programming, and domain knowledge to extract insights and knowledge from structured and unstructured data. It involves techniques such as data analysis, machine learning, data visualization, and data engineering to solve complex problems and inform decision-making.', 'options': None}]\n",
      "And messages is:\n",
      "[{'role': 'system', 'content': 'You are a helpful assistant. Just give your answer in briefly.'}, {'role': 'user', 'metadata': {'title': None, 'id': None, 'parent_id': None, 'duration': None, 'status': None}, 'content': 'hello', 'options': None}, {'role': 'assistant', 'metadata': {'title': None, 'id': None, 'parent_id': None, 'duration': None, 'status': None}, 'content': 'Hello! How can I assist you today?', 'options': None}, {'role': 'user', 'metadata': {'title': None, 'id': None, 'parent_id': None, 'duration': None, 'status': None}, 'content': 'whats Data Science', 'options': None}, {'role': 'assistant', 'metadata': {'title': None, 'id': None, 'parent_id': None, 'duration': None, 'status': None}, 'content': 'Data Science is an interdisciplinary field that combines statistics, mathematics, programming, and domain knowledge to extract insights and knowledge from structured and unstructured data. It involves techniques such as data analysis, machine learning, data visualization, and data engineering to solve complex problems and inform decision-making.', 'options': None}, {'role': 'user', 'content': 'whats the Data Science salary  in Kenya ?'}]\n",
      "History is:\n",
      "[{'role': 'user', 'metadata': {'title': None, 'id': None, 'parent_id': None, 'duration': None, 'status': None}, 'content': 'hello', 'options': None}, {'role': 'assistant', 'metadata': {'title': None, 'id': None, 'parent_id': None, 'duration': None, 'status': None}, 'content': 'Hello! How can I assist you today?', 'options': None}, {'role': 'user', 'metadata': {'title': None, 'id': None, 'parent_id': None, 'duration': None, 'status': None}, 'content': 'whats Data Science', 'options': None}, {'role': 'assistant', 'metadata': {'title': None, 'id': None, 'parent_id': None, 'duration': None, 'status': None}, 'content': 'Data Science is an interdisciplinary field that combines statistics, mathematics, programming, and domain knowledge to extract insights and knowledge from structured and unstructured data. It involves techniques such as data analysis, machine learning, data visualization, and data engineering to solve complex problems and inform decision-making.', 'options': None}, {'role': 'user', 'metadata': {'title': None, 'id': None, 'parent_id': None, 'duration': None, 'status': None}, 'content': 'whats the Data Science salary  in Kenya ?', 'options': None}, {'role': 'assistant', 'metadata': {'title': None, 'id': None, 'parent_id': None, 'duration': None, 'status': None}, 'content': 'As of 2023, the salary for data scientists in Kenya typically ranges from KSh 1,000,000 to KSh 2,500,000 per year, depending on experience, skills, and the specific employer. Junior data scientists may earn less, while those with advanced skills and experience can earn higher salaries.', 'options': None}]\n",
      "And messages is:\n",
      "[{'role': 'system', 'content': 'You are a helpful assistant. Just give your answer in briefly.'}, {'role': 'user', 'metadata': {'title': None, 'id': None, 'parent_id': None, 'duration': None, 'status': None}, 'content': 'hello', 'options': None}, {'role': 'assistant', 'metadata': {'title': None, 'id': None, 'parent_id': None, 'duration': None, 'status': None}, 'content': 'Hello! How can I assist you today?', 'options': None}, {'role': 'user', 'metadata': {'title': None, 'id': None, 'parent_id': None, 'duration': None, 'status': None}, 'content': 'whats Data Science', 'options': None}, {'role': 'assistant', 'metadata': {'title': None, 'id': None, 'parent_id': None, 'duration': None, 'status': None}, 'content': 'Data Science is an interdisciplinary field that combines statistics, mathematics, programming, and domain knowledge to extract insights and knowledge from structured and unstructured data. It involves techniques such as data analysis, machine learning, data visualization, and data engineering to solve complex problems and inform decision-making.', 'options': None}, {'role': 'user', 'metadata': {'title': None, 'id': None, 'parent_id': None, 'duration': None, 'status': None}, 'content': 'whats the Data Science salary  in Kenya ?', 'options': None}, {'role': 'assistant', 'metadata': {'title': None, 'id': None, 'parent_id': None, 'duration': None, 'status': None}, 'content': 'As of 2023, the salary for data scientists in Kenya typically ranges from KSh 1,000,000 to KSh 2,500,000 per year, depending on experience, skills, and the specific employer. Junior data scientists may earn less, while those with advanced skills and experience can earn higher salaries.', 'options': None}, {'role': 'user', 'content': 'Thatns'}]\n",
      "History is:\n",
      "[{'role': 'user', 'metadata': {'title': None, 'id': None, 'parent_id': None, 'duration': None, 'status': None}, 'content': 'hello', 'options': None}, {'role': 'assistant', 'metadata': {'title': None, 'id': None, 'parent_id': None, 'duration': None, 'status': None}, 'content': 'Hello! How can I assist you today?', 'options': None}, {'role': 'user', 'metadata': {'title': None, 'id': None, 'parent_id': None, 'duration': None, 'status': None}, 'content': 'whats Data Science', 'options': None}, {'role': 'assistant', 'metadata': {'title': None, 'id': None, 'parent_id': None, 'duration': None, 'status': None}, 'content': 'Data Science is an interdisciplinary field that combines statistics, mathematics, programming, and domain knowledge to extract insights and knowledge from structured and unstructured data. It involves techniques such as data analysis, machine learning, data visualization, and data engineering to solve complex problems and inform decision-making.', 'options': None}, {'role': 'user', 'metadata': {'title': None, 'id': None, 'parent_id': None, 'duration': None, 'status': None}, 'content': 'whats the Data Science salary  in Kenya ?', 'options': None}, {'role': 'assistant', 'metadata': {'title': None, 'id': None, 'parent_id': None, 'duration': None, 'status': None}, 'content': 'As of 2023, the salary for data scientists in Kenya typically ranges from KSh 1,000,000 to KSh 2,500,000 per year, depending on experience, skills, and the specific employer. Junior data scientists may earn less, while those with advanced skills and experience can earn higher salaries.', 'options': None}, {'role': 'user', 'metadata': {'title': None, 'id': None, 'parent_id': None, 'duration': None, 'status': None}, 'content': 'Thatns', 'options': None}, {'role': 'assistant', 'metadata': {'title': None, 'id': None, 'parent_id': None, 'duration': None, 'status': None}, 'content': \"You're welcome! If you have any more questions, feel free to ask.\", 'options': None}]\n",
      "And messages is:\n",
      "[{'role': 'system', 'content': 'You are a helpful assistant. Just give your answer in briefly.'}, {'role': 'user', 'metadata': {'title': None, 'id': None, 'parent_id': None, 'duration': None, 'status': None}, 'content': 'hello', 'options': None}, {'role': 'assistant', 'metadata': {'title': None, 'id': None, 'parent_id': None, 'duration': None, 'status': None}, 'content': 'Hello! How can I assist you today?', 'options': None}, {'role': 'user', 'metadata': {'title': None, 'id': None, 'parent_id': None, 'duration': None, 'status': None}, 'content': 'whats Data Science', 'options': None}, {'role': 'assistant', 'metadata': {'title': None, 'id': None, 'parent_id': None, 'duration': None, 'status': None}, 'content': 'Data Science is an interdisciplinary field that combines statistics, mathematics, programming, and domain knowledge to extract insights and knowledge from structured and unstructured data. It involves techniques such as data analysis, machine learning, data visualization, and data engineering to solve complex problems and inform decision-making.', 'options': None}, {'role': 'user', 'metadata': {'title': None, 'id': None, 'parent_id': None, 'duration': None, 'status': None}, 'content': 'whats the Data Science salary  in Kenya ?', 'options': None}, {'role': 'assistant', 'metadata': {'title': None, 'id': None, 'parent_id': None, 'duration': None, 'status': None}, 'content': 'As of 2023, the salary for data scientists in Kenya typically ranges from KSh 1,000,000 to KSh 2,500,000 per year, depending on experience, skills, and the specific employer. Junior data scientists may earn less, while those with advanced skills and experience can earn higher salaries.', 'options': None}, {'role': 'user', 'metadata': {'title': None, 'id': None, 'parent_id': None, 'duration': None, 'status': None}, 'content': 'Thatns', 'options': None}, {'role': 'assistant', 'metadata': {'title': None, 'id': None, 'parent_id': None, 'duration': None, 'status': None}, 'content': \"You're welcome! If you have any more questions, feel free to ask.\", 'options': None}, {'role': 'user', 'content': 'sasa'}]\n",
      "History is:\n",
      "[{'role': 'user', 'metadata': {'title': None, 'id': None, 'parent_id': None, 'duration': None, 'status': None}, 'content': 'hello', 'options': None}, {'role': 'assistant', 'metadata': {'title': None, 'id': None, 'parent_id': None, 'duration': None, 'status': None}, 'content': 'Hello! How can I assist you today?', 'options': None}, {'role': 'user', 'metadata': {'title': None, 'id': None, 'parent_id': None, 'duration': None, 'status': None}, 'content': 'whats Data Science', 'options': None}, {'role': 'assistant', 'metadata': {'title': None, 'id': None, 'parent_id': None, 'duration': None, 'status': None}, 'content': 'Data Science is an interdisciplinary field that combines statistics, mathematics, programming, and domain knowledge to extract insights and knowledge from structured and unstructured data. It involves techniques such as data analysis, machine learning, data visualization, and data engineering to solve complex problems and inform decision-making.', 'options': None}, {'role': 'user', 'metadata': {'title': None, 'id': None, 'parent_id': None, 'duration': None, 'status': None}, 'content': 'whats the Data Science salary  in Kenya ?', 'options': None}, {'role': 'assistant', 'metadata': {'title': None, 'id': None, 'parent_id': None, 'duration': None, 'status': None}, 'content': 'As of 2023, the salary for data scientists in Kenya typically ranges from KSh 1,000,000 to KSh 2,500,000 per year, depending on experience, skills, and the specific employer. Junior data scientists may earn less, while those with advanced skills and experience can earn higher salaries.', 'options': None}, {'role': 'user', 'metadata': {'title': None, 'id': None, 'parent_id': None, 'duration': None, 'status': None}, 'content': 'Thatns', 'options': None}, {'role': 'assistant', 'metadata': {'title': None, 'id': None, 'parent_id': None, 'duration': None, 'status': None}, 'content': \"You're welcome! If you have any more questions, feel free to ask.\", 'options': None}, {'role': 'user', 'metadata': {'title': None, 'id': None, 'parent_id': None, 'duration': None, 'status': None}, 'content': 'sasa', 'options': None}, {'role': 'assistant', 'metadata': {'title': None, 'id': None, 'parent_id': None, 'duration': None, 'status': None}, 'content': 'Sasa! Niko hapa, naweza kukusaidia vipi?', 'options': None}]\n",
      "And messages is:\n",
      "[{'role': 'system', 'content': 'You are a helpful assistant. Just give your answer in briefly.'}, {'role': 'user', 'metadata': {'title': None, 'id': None, 'parent_id': None, 'duration': None, 'status': None}, 'content': 'hello', 'options': None}, {'role': 'assistant', 'metadata': {'title': None, 'id': None, 'parent_id': None, 'duration': None, 'status': None}, 'content': 'Hello! How can I assist you today?', 'options': None}, {'role': 'user', 'metadata': {'title': None, 'id': None, 'parent_id': None, 'duration': None, 'status': None}, 'content': 'whats Data Science', 'options': None}, {'role': 'assistant', 'metadata': {'title': None, 'id': None, 'parent_id': None, 'duration': None, 'status': None}, 'content': 'Data Science is an interdisciplinary field that combines statistics, mathematics, programming, and domain knowledge to extract insights and knowledge from structured and unstructured data. It involves techniques such as data analysis, machine learning, data visualization, and data engineering to solve complex problems and inform decision-making.', 'options': None}, {'role': 'user', 'metadata': {'title': None, 'id': None, 'parent_id': None, 'duration': None, 'status': None}, 'content': 'whats the Data Science salary  in Kenya ?', 'options': None}, {'role': 'assistant', 'metadata': {'title': None, 'id': None, 'parent_id': None, 'duration': None, 'status': None}, 'content': 'As of 2023, the salary for data scientists in Kenya typically ranges from KSh 1,000,000 to KSh 2,500,000 per year, depending on experience, skills, and the specific employer. Junior data scientists may earn less, while those with advanced skills and experience can earn higher salaries.', 'options': None}, {'role': 'user', 'metadata': {'title': None, 'id': None, 'parent_id': None, 'duration': None, 'status': None}, 'content': 'Thatns', 'options': None}, {'role': 'assistant', 'metadata': {'title': None, 'id': None, 'parent_id': None, 'duration': None, 'status': None}, 'content': \"You're welcome! If you have any more questions, feel free to ask.\", 'options': None}, {'role': 'user', 'metadata': {'title': None, 'id': None, 'parent_id': None, 'duration': None, 'status': None}, 'content': 'sasa', 'options': None}, {'role': 'assistant', 'metadata': {'title': None, 'id': None, 'parent_id': None, 'duration': None, 'status': None}, 'content': 'Sasa! Niko hapa, naweza kukusaidia vipi?', 'options': None}, {'role': 'user', 'content': 'niko njaa'}]\n"
     ]
    }
   ],
   "source": [
    "gr.ChatInterface(fn=chat, type=\"messages\").launch(inbrowser=True)"
   ]
  },
  {
   "cell_type": "code",
   "execution_count": 14,
   "id": "89e90f21-9710-4a4a-a770-a4ea3eb7d702",
   "metadata": {},
   "outputs": [],
   "source": [
    "def chat(message, history):\n",
    "    messages = [{\"role\": \"system\", \"content\": system_message}] + history + [{\"role\": \"user\", \"content\": message}]\n",
    "    \n",
    "    # print(\"History is:\")\n",
    "    # print(history)\n",
    "    # print(\"And messages is:\")\n",
    "    # print(messages)\n",
    "\n",
    "    # Send the request to Ollama\n",
    "    response = ollama.chat(model=MODEL_LLAMA, messages=messages)\n",
    "    \n",
    "    # Extract content from the response\n",
    "    result = response.message.content\n",
    "    return result"
   ]
  },
  {
   "cell_type": "code",
   "execution_count": 15,
   "id": "6cd69965-eb45-4020-be05-e1c10411c73b",
   "metadata": {},
   "outputs": [
    {
     "name": "stdout",
     "output_type": "stream",
     "text": [
      "* Running on local URL:  http://127.0.0.1:7884\n",
      "\n",
      "To create a public link, set `share=True` in `launch()`.\n"
     ]
    },
    {
     "data": {
      "text/html": [
       "<div><iframe src=\"http://127.0.0.1:7884/\" width=\"100%\" height=\"500\" allow=\"autoplay; camera; microphone; clipboard-read; clipboard-write;\" frameborder=\"0\" allowfullscreen></iframe></div>"
      ],
      "text/plain": [
       "<IPython.core.display.HTML object>"
      ]
     },
     "metadata": {},
     "output_type": "display_data"
    },
    {
     "data": {
      "text/plain": []
     },
     "execution_count": 15,
     "metadata": {},
     "output_type": "execute_result"
    }
   ],
   "source": [
    "gr.ChatInterface(fn=chat, type=\"messages\").launch(inbrowser=True)"
   ]
  },
  {
   "cell_type": "code",
   "execution_count": null,
   "id": "b5e5f147-da0c-44f9-8a72-e2e4deb423ce",
   "metadata": {},
   "outputs": [],
   "source": []
  },
  {
   "cell_type": "code",
   "execution_count": null,
   "id": "45c9e3ec-ec73-49ba-9c18-194310b8dcfd",
   "metadata": {},
   "outputs": [],
   "source": []
  },
  {
   "cell_type": "code",
   "execution_count": 16,
   "id": "fb1eb687-f9b3-42e7-a54d-3e38a9d9dee6",
   "metadata": {},
   "outputs": [],
   "source": [
    "def chat(message, history):\n",
    "    messages = [{\"role\": \"system\", \"content\": system_message}] + history + [{\"role\": \"user\", \"content\": message}]\n",
    "    \n",
    "    # print(\"History is:\")\n",
    "    # print(history)\n",
    "    # print(\"And messages is:\")\n",
    "    # print(messages)\n",
    "\n",
    "    # If Ollama supports streaming, you might handle it like this\n",
    "    stream = ollama.chat(model=MODEL_LLAMA, messages=messages, stream=True)\n",
    "    \n",
    "    response = \"\"\n",
    "    for chunk in stream:\n",
    "        print(\"Received chunk:\")\n",
    "        # print(chunk)  # Debugging: print the chunk structure\n",
    "        \n",
    "        # Access the content directly from the chunk's message\n",
    "        content = chunk.get('message', {}).get('content', '')\n",
    "        response += content\n",
    "        \n",
    "        # If 'done' is True, end the response stream\n",
    "        if chunk.get('done', False):\n",
    "            break\n",
    "        \n",
    "        yield response  # Stream the response back incrementally\n",
    "\n",
    "# gr.ChatInterface(fn=chat, type=\"messages\").launch(inbrowser=True)\n"
   ]
  },
  {
   "cell_type": "markdown",
   "id": "1334422a-808f-4147-9c4c-57d63d9780d0",
   "metadata": {},
   "source": [
    "## And then enter Gradio's magic!"
   ]
  },
  {
   "cell_type": "code",
   "execution_count": 8,
   "id": "0866ca56-100a-44ab-8bd0-1568feaf6bf2",
   "metadata": {},
   "outputs": [],
   "source": [
    "gr.ChatInterface(fn=chat, type=\"messages\").launch(inbrowser=True)"
   ]
  },
  {
   "cell_type": "code",
   "execution_count": null,
   "id": "2403bf49-87e1-41cd-b018-7d052048196a",
   "metadata": {},
   "outputs": [],
   "source": []
  },
  {
   "cell_type": "code",
   "execution_count": 9,
   "id": "1f91b414-8bab-472d-b9c9-3fa51259bdfe",
   "metadata": {},
   "outputs": [],
   "source": [
    "system_message = \"You are a helpful assistant in a clothes store. You should try to gently encourage \\\n",
    "the customer to try items that are on sale. Hats are 60% off, and most other items are 50% off. \\\n",
    "For example, if the customer says 'I'm looking to buy a hat', \\\n",
    "you could reply something like, 'Wonderful - we have lots of hats - including several that are part of our sales evemt.'\\\n",
    "Encourage the customer to buy hats if they are unsure what to get.\""
   ]
  },
  {
   "cell_type": "code",
   "execution_count": 10,
   "id": "4e5be3ec-c26c-42bc-ac16-c39d369883f6",
   "metadata": {},
   "outputs": [],
   "source": [
    "def chat(message, history):\n",
    "    messages = [{\"role\": \"system\", \"content\": system_message}] + history + [{\"role\": \"user\", \"content\": message}]\n",
    "    \n",
    "    # If Ollama supports streaming, you might handle it like this\n",
    "    stream = ollama.chat(model=MODEL_LLAMA, messages=messages, stream=True)\n",
    "    \n",
    "    response = \"\"\n",
    "    for chunk in stream:\n",
    "\n",
    "        # the content directly from the chunk's message\n",
    "        content = chunk.get('message', {}).get('content', '')\n",
    "        response += content\n",
    "        \n",
    "        # If 'done' is True, end the response stream\n",
    "        if chunk.get('done', False):\n",
    "            break\n",
    "        \n",
    "        yield response  # Stream the response back incrementally"
   ]
  },
  {
   "cell_type": "code",
   "execution_count": 11,
   "id": "413e9e4e-7836-43ac-a0c3-e1ab5ed6b136",
   "metadata": {},
   "outputs": [],
   "source": [
    "gr.ChatInterface(fn=chat, type=\"messages\").launch(inbrowser=True)"
   ]
  },
  {
   "cell_type": "code",
   "execution_count": 13,
   "id": "d75f0ffa-55c8-4152-b451-945021676837",
   "metadata": {},
   "outputs": [],
   "source": [
    "system_message += \"\\nIf the customer asks for shoes, you should respond that shoes are not on sale today, \\\n",
    "but remind the customer to look at hats!\""
   ]
  },
  {
   "cell_type": "code",
   "execution_count": null,
   "id": "c602a8dd-2df7-4eb7-b539-4e01865a6351",
   "metadata": {},
   "outputs": [],
   "source": [
    "gr.ChatInterface(fn=chat, type=\"messages\").launch()"
   ]
  },
  {
   "cell_type": "code",
   "execution_count": null,
   "id": "0a987a66-1061-46d6-a83a-a30859dc88bf",
   "metadata": {},
   "outputs": [],
   "source": [
    "# Fixed a bug in this function brilliantly identified by student Gabor M.!\n",
    "# I've also improved the structure of this function\n",
    "\n",
    "def chat(message, history):\n",
    "\n",
    "    relevant_system_message = system_message\n",
    "    if 'belt' in message:\n",
    "        relevant_system_message += \" The store does not sell belts; if you are asked for belts, be sure to point out other items on sale.\"\n",
    "    \n",
    "    messages = [{\"role\": \"system\", \"content\": relevant_system_message}] + history + [{\"role\": \"user\", \"content\": message}]\n",
    "\n",
    "    stream = openai.chat.completions.create(model=MODEL, messages=messages, stream=True)\n",
    "\n",
    "    response = \"\"\n",
    "    for chunk in stream:\n",
    "        response += chunk.choices[0].delta.content or ''\n",
    "        yield response"
   ]
  },
  {
   "cell_type": "code",
   "execution_count": null,
   "id": "20570de2-eaad-42cc-a92c-c779d71b48b6",
   "metadata": {},
   "outputs": [],
   "source": [
    "gr.ChatInterface(fn=chat, type=\"messages\").launch(inbrowser=True)"
   ]
  },
  {
   "cell_type": "markdown",
   "id": "82a57ee0-b945-48a7-a024-01b56a5d4b3e",
   "metadata": {},
   "source": [
    "<table style=\"margin: 0; text-align: left;\">\n",
    "    <tr>\n",
    "        <td style=\"width: 150px; height: 150px; vertical-align: middle;\">\n",
    "            <img src=\"../business.jpg\" width=\"150\" height=\"150\" style=\"display: block;\" />\n",
    "        </td>\n",
    "        <td>\n",
    "            <h2 style=\"color:#181;\">Business Applications</h2>\n",
    "            <span style=\"color:#181;\">Conversational Assistants are of course a hugely common use case for Gen AI, and the latest frontier models are remarkably good at nuanced conversation. And Gradio makes it easy to have a user interface. Another crucial skill we covered is how to use prompting to provide context, information and examples.\n",
    "<br/><br/>\n",
    "Consider how you could apply an AI Assistant to your business, and make yourself a prototype. Use the system prompt to give context on your business, and set the tone for the LLM.</span>\n",
    "        </td>\n",
    "    </tr>\n",
    "</table>"
   ]
  },
  {
   "cell_type": "code",
   "execution_count": 17,
   "id": "0b600f6e-0c8b-4c2a-8583-d4428dd15004",
   "metadata": {},
   "outputs": [],
   "source": [
    "# system message\n",
    "system_message = (\n",
    "    \"You are a helpful financial assistant for Eclectics Bank Kenya. \"\n",
    "    \"Your role is to provide accurate and concise answers, no more than 1 sentence, \"\n",
    "    \"to assist customers with inquiries about loans, overdrafts, credit scores, and other banking services. \"\n",
    "    \"Always maintain a polite and professional tone, ensuring your replies are easy to understand. \"\n",
    "    \"If you don't know the answer, say so and suggest contacting customer service for further assistance and remember to use Kenya shilling Currency.\\n\\n\"\n",
    "    \"Examples:\\n\"\n",
    "    \"- If asked about loans: 'Eclectics Bank offers a variety of loans with competitive rates, including personal, business, and education loans. Please specify your needs for more details.'\\n\"\n",
    "    \"- If asked about overdrafts: 'Our overdraft facility helps manage cash flow gaps with dynamic eligibility thresholds based on your account activity.'\\n\"\n",
    "    \"- If asked about credit scores: 'A good credit score is key to better loan terms. You can improve it by timely payments and reducing debt.'\\n\\n\"\n",
    "    \"Encourage customers to explore Eclectics Bank’s offerings, such as dynamic loan limits, overdrafts, and financial tools tailored to their needs.\"\n",
    ")\n"
   ]
  },
  {
   "cell_type": "code",
   "execution_count": 18,
   "id": "6dfb9e21-df67-4c2b-b952-5e7e7961b03d",
   "metadata": {},
   "outputs": [],
   "source": [
    "def chat(message, history):\n",
    "    messages = [{\"role\": \"system\", \"content\": system_message}] + history + [{\"role\": \"user\", \"content\": message}]\n",
    "    \n",
    "    # If Ollama supports streaming, you might handle it like this\n",
    "    try:\n",
    "        stream = ollama.chat(model=MODEL_LLAMA, messages=messages, stream=True)\n",
    "    except Exception as e:\n",
    "        yield f\"An error occurred while starting the chat: {e}\"\n",
    "        return\n",
    "    \n",
    "    response = \"\"\n",
    "    for chunk in stream:\n",
    "        try:\n",
    "\n",
    "            # Extract the content from the chunk's message\n",
    "            content = chunk.get('message', {}).get('content', '')\n",
    "            response += content\n",
    "\n",
    "            # If 'done' is True, end the response stream\n",
    "            if chunk.get('done', False):\n",
    "                break\n",
    "\n",
    "            yield response  # Stream the response back incrementally\n",
    "        except Exception as e:\n",
    "            yield f\"An error occurred while processing a chunk: {e}\"\n",
    "            break"
   ]
  },
  {
   "cell_type": "code",
   "execution_count": 22,
   "id": "e41045ea-7cd4-4d8c-9c0f-9cbceb93340d",
   "metadata": {},
   "outputs": [],
   "source": [
    "def chat_gpt(message, history):\n",
    "    # messages = [\n",
    "    #     {\"role\": \"system\", \"content\": system_message},\n",
    "    #     {\"role\": \"user\", \"content\": prompt}\n",
    "    #   ]\n",
    "    messages = [{\"role\": \"system\", \"content\": system_message}] + history + [{\"role\": \"user\", \"content\": message}]\n",
    "    stream = openai.chat.completions.create(\n",
    "        model= MODEL_GPT,\n",
    "        messages=messages,\n",
    "        stream=True\n",
    "    )\n",
    "    result = \"\"\n",
    "    for chunk in stream:\n",
    "        result += chunk.choices[0].delta.content or \"\"\n",
    "        yield result"
   ]
  },
  {
   "cell_type": "code",
   "execution_count": 23,
   "id": "0e630881-425d-4a74-9d28-0fac5b2602db",
   "metadata": {},
   "outputs": [
    {
     "name": "stdout",
     "output_type": "stream",
     "text": [
      "* Running on local URL:  http://127.0.0.1:7887\n",
      "\n",
      "To create a public link, set `share=True` in `launch()`.\n"
     ]
    },
    {
     "data": {
      "text/html": [
       "<div><iframe src=\"http://127.0.0.1:7887/\" width=\"100%\" height=\"500\" allow=\"autoplay; camera; microphone; clipboard-read; clipboard-write;\" frameborder=\"0\" allowfullscreen></iframe></div>"
      ],
      "text/plain": [
       "<IPython.core.display.HTML object>"
      ]
     },
     "metadata": {},
     "output_type": "display_data"
    },
    {
     "data": {
      "text/plain": []
     },
     "execution_count": 23,
     "metadata": {},
     "output_type": "execute_result"
    }
   ],
   "source": [
    "gr.ChatInterface(\n",
    "    fn=chat_gpt,\n",
    "    type=\"messages\",\n",
    "    title=\"Eclectics Banking Assistant Chatbot\",\n",
    "    # description=(\n",
    "    #     \"Welcome to the Banking Assistant Chatbot! This assistant is here to help you with financial queries such as loans, overdrafts, \"\n",
    "    #     \"credit scores, and more. Simply type your question, and the assistant will provide concise, professional advice.\"\n",
    "    # ),\n",
    ").launch(inbrowser=True)"
   ]
  },
  {
   "cell_type": "code",
   "execution_count": null,
   "id": "377d5fc8-c0d9-440c-bf7b-6276e0b0a59b",
   "metadata": {},
   "outputs": [],
   "source": []
  },
  {
   "cell_type": "code",
   "execution_count": 36,
   "id": "30a49446-6bde-427a-ab1d-e356fc9d8c16",
   "metadata": {},
   "outputs": [],
   "source": [
    "# Function to provide loan details\n",
    "def get_loan_details(loan_type):\n",
    "    loans = {\n",
    "        'personal': \"Personal loans are flexible with competitive rates. Borrow for any personal needs.\",\n",
    "        'business': \"Business loans help businesses expand with favorable terms and flexible repayments.\",\n",
    "        'education': \"Education loans support tuition and related costs. Flexible repayment options available.\"\n",
    "    }\n",
    "    return loans.get(loan_type, \"We offer personal, business, and education loans. Please specify a type.\")\n",
    "\n",
    "# Function to check overdraft eligibility\n",
    "def overdraft_eligibility(account_balance, transaction_history):\n",
    "    if account_balance > 10000 and transaction_history > 5:\n",
    "        return \"You are eligible for an overdraft facility based on your account activity.\"\n",
    "    else:\n",
    "        return \"Please improve your account balance or transaction history to qualify for an overdraft.\"\n",
    "\n",
    "# Function to provide advice on credit score\n",
    "def credit_score_advice(credit_score):\n",
    "    if credit_score > 700:\n",
    "        return \"Your credit score is excellent. You qualify for loans with favorable terms.\"\n",
    "    elif credit_score > 500:\n",
    "        return \"Your credit score is fair. Consider improving it for better loan terms.\"\n",
    "    else:\n",
    "        return \"Your credit score is low. Focus on timely payments and reducing debt to improve it.\"\n"
   ]
  },
  {
   "cell_type": "code",
   "execution_count": 37,
   "id": "33cecedf-9b1b-4871-9bd1-ca7c793a374f",
   "metadata": {},
   "outputs": [],
   "source": [
    "loan_function = {\n",
    "    \"name\": \"get_loan_details\",\n",
    "    \"description\": \"Provides information on different loan types available at Eclectics Bank Kenya.\",\n",
    "    \"parameters\": {\n",
    "        \"type\": \"object\",\n",
    "        \"properties\": {\n",
    "            \"loan_type\": {\n",
    "                \"type\": \"string\",\n",
    "                \"description\": \"The type of loan requested by the customer. Example: personal, business, education.\"\n",
    "            },\n",
    "        },\n",
    "        \"required\": [\"loan_type\"],\n",
    "        \"additionalProperties\": False\n",
    "    }\n",
    "}\n",
    "\n",
    "overdraft_function = {\n",
    "    \"name\": \"overdraft_eligibility\",\n",
    "    \"description\": \"Checks eligibility for overdraft services based on account balance and transaction history.\",\n",
    "    \"parameters\": {\n",
    "        \"type\": \"object\",\n",
    "        \"properties\": {\n",
    "            \"account_balance\": {\n",
    "                \"type\": \"number\",\n",
    "                \"description\": \"The account balance of the customer.\"\n",
    "            },\n",
    "            \"transaction_history\": {\n",
    "                \"type\": \"number\",\n",
    "                \"description\": \"The number of transactions the customer has made in the past month.\"\n",
    "            },\n",
    "        },\n",
    "        \"required\": [\"account_balance\", \"transaction_history\"],\n",
    "        \"additionalProperties\": False\n",
    "    }\n",
    "}\n",
    "\n",
    "credit_score_function = {\n",
    "    \"name\": \"credit_score_advice\",\n",
    "    \"description\": \"Provides credit score advice based on the user's credit score.\",\n",
    "    \"parameters\": {\n",
    "        \"type\": \"object\",\n",
    "        \"properties\": {\n",
    "            \"credit_score\": {\n",
    "                \"type\": \"number\",\n",
    "                \"description\": \"The credit score of the customer.\"\n",
    "            },\n",
    "        },\n",
    "        \"required\": [\"credit_score\"],\n",
    "        \"additionalProperties\": False\n",
    "    }\n",
    "}\n",
    "\n",
    "# List of tools (functions) available to the model\n",
    "tools = [\n",
    "    {\"type\": \"function\", \"function\": loan_function},\n",
    "    {\"type\": \"function\", \"function\": overdraft_function},\n",
    "    {\"type\": \"function\", \"function\": credit_score_function}\n",
    "]\n"
   ]
  },
  {
   "cell_type": "code",
   "execution_count": 38,
   "id": "e2b09685-a1f0-4888-b2bc-34df3e832de3",
   "metadata": {},
   "outputs": [],
   "source": [
    "import json\n",
    "\n",
    "# Define the system message\n",
    "system_message = (\n",
    "    \"You are a helpful financial assistant for Eclectics Bank Kenya. \"\n",
    "    \"Your role is to provide accurate and concise answers, no more than 1 sentence, \"\n",
    "    \"to assist customers with inquiries about loans, overdrafts, credit scores, and other banking services. \"\n",
    "    \"Always maintain a polite and professional tone, ensuring your replies are easy to understand. \"\n",
    "    \"If you don't know the answer, say so and suggest contacting customer service for further assistance.\\n\\n\"\n",
    "    \"Examples:\\n\"\n",
    "    \"- If asked about loans: 'Eclectics Bank offers a variety of loans with competitive rates, including personal, business, and education loans. Please specify your needs for more details.'\\n\"\n",
    "    \"- If asked about overdrafts: 'Our overdraft facility helps manage cash flow gaps with dynamic eligibility thresholds based on your account activity.'\\n\"\n",
    "    \"- If asked about credit scores: 'A good credit score is key to better loan terms. You can improve it by timely payments and reducing debt.'\\n\\n\"\n",
    "    \"Encourage customers to explore Eclectics Bank’s offerings, such as dynamic loan limits, overdrafts, and financial tools tailored to their needs.\"\n",
    ")"
   ]
  },
  {
   "cell_type": "code",
   "execution_count": 42,
   "id": "0a29da1f-1dee-46b3-8c7a-ca82afab7572",
   "metadata": {},
   "outputs": [],
   "source": [
    "def chat(message, history):\n",
    "    # Combine system message, history, and user input\n",
    "    messages = [{\"role\": \"system\", \"content\": system_message}] + history + [{\"role\": \"user\", \"content\": message}]\n",
    "    \n",
    "    # Call the Ollama model to process the input and determine the response\n",
    "    response = ollama.chat(\n",
    "        model=MODEL_LLAMA,  \n",
    "        messages=messages,\n",
    "        tools=tools \n",
    "    )\n",
    "\n",
    "    print(\"Response: ===>\", response)\n",
    "    \n",
    "    # Check if the response contains tool calls\n",
    "    if 'tool_calls' in response and len(response['tool_calls']) > 0:\n",
    "        # Extract tool call information\n",
    "        tool_call = response['tool_calls'][0]\n",
    "        function_name = tool_call['function']['name']\n",
    "        arguments = tool_call['function']['arguments']\n",
    "        \n",
    "        # Call the function associated with the tool call\n",
    "        if function_name == \"get_loan_details\":\n",
    "            loan_type = arguments.get('loan_type')\n",
    "            loan_details = get_loan_details(loan_type)  # Define this function to fetch loan details\n",
    "            \n",
    "            # Create a response with the loan details and append it to the messages\n",
    "            tool_response = {\n",
    "                \"role\": \"tool\",\n",
    "                \"content\": loan_details\n",
    "            }\n",
    "            messages.append(tool_response)\n",
    "\n",
    "            # Create a final response from the updated messages history\n",
    "            final_response = ollama.chat(\n",
    "                model=MODEL_LLAMA,  \n",
    "                messages=messages\n",
    "            )\n",
    "\n",
    "            return final_response['message']['content']\n",
    "        \n",
    "        else:\n",
    "            return \"Sorry, I couldn't process the tool call correctly.\"\n",
    "\n",
    "    # If no tool call, return the message content\n",
    "    return response['message']['content']"
   ]
  },
  {
   "cell_type": "code",
   "execution_count": 43,
   "id": "57699361-5dd1-4040-8c72-80e40c1f0ba9",
   "metadata": {},
   "outputs": [],
   "source": [
    "# Function to handle tool calls\n",
    "def handle_tool_call(message):\n",
    "    tool_call = message['tool_calls'][0]\n",
    "    arguments = json.loads(tool_call['function']['arguments'])\n",
    "    \n",
    "    if tool_call['name'] == 'get_loan_details':\n",
    "        loan_type = arguments.get('loan_type')\n",
    "        loan_info = get_loan_details(loan_type)\n",
    "    elif tool_call['name'] == 'overdraft_eligibility':\n",
    "        account_balance = arguments.get('account_balance')\n",
    "        transaction_history = arguments.get('transaction_history')\n",
    "        loan_info = overdraft_eligibility(account_balance, transaction_history)\n",
    "    elif tool_call['name'] == 'credit_score_advice':\n",
    "        credit_score = arguments.get('credit_score')\n",
    "        loan_info = credit_score_advice(credit_score)\n",
    "\n",
    "    response = {\n",
    "        \"role\": \"tool\",\n",
    "        \"content\": json.dumps({\"loan_info\": loan_info}),\n",
    "        \"tool_call_id\": tool_call['id']\n",
    "    }\n",
    "\n",
    "    return response, loan_info"
   ]
  },
  {
   "cell_type": "code",
   "execution_count": 44,
   "id": "b4f1b063-06bd-48e2-844a-a1d971549f67",
   "metadata": {},
   "outputs": [
    {
     "name": "stdout",
     "output_type": "stream",
     "text": [
      "* Running on local URL:  http://127.0.0.1:7880\n",
      "\n",
      "To create a public link, set `share=True` in `launch()`.\n"
     ]
    },
    {
     "data": {
      "text/html": [
       "<div><iframe src=\"http://127.0.0.1:7880/\" width=\"100%\" height=\"500\" allow=\"autoplay; camera; microphone; clipboard-read; clipboard-write;\" frameborder=\"0\" allowfullscreen></iframe></div>"
      ],
      "text/plain": [
       "<IPython.core.display.HTML object>"
      ]
     },
     "metadata": {},
     "output_type": "display_data"
    },
    {
     "data": {
      "text/plain": []
     },
     "execution_count": 44,
     "metadata": {},
     "output_type": "execute_result"
    },
    {
     "name": "stdout",
     "output_type": "stream",
     "text": [
      "Response: ===> model='llama3.2' created_at='2025-01-18T15:49:29.5948177Z' done=True done_reason='stop' total_duration=7004236100 load_duration=54126900 prompt_eval_count=540 prompt_eval_duration=442000000 eval_count=19 eval_duration=6502000000 message=Message(role='assistant', content='', images=None, tool_calls=[ToolCall(function=Function(name='get_loan_details', arguments={'loan_type': 'personal'}))])\n"
     ]
    }
   ],
   "source": [
    "\n",
    "gr.ChatInterface(fn=chat, type=\"messages\").launch(inbrowser=True)\n"
   ]
  },
  {
   "cell_type": "code",
   "execution_count": null,
   "id": "aa874f1f-851a-40d2-9b2b-b9fba9341245",
   "metadata": {},
   "outputs": [],
   "source": []
  },
  {
   "cell_type": "code",
   "execution_count": null,
   "id": "0f6c39d3-5b9d-4dfd-a7f9-f9ce042ffb68",
   "metadata": {},
   "outputs": [],
   "source": []
  }
 ],
 "metadata": {
  "kernelspec": {
   "display_name": "Python 3 (ipykernel)",
   "language": "python",
   "name": "python3"
  },
  "language_info": {
   "codemirror_mode": {
    "name": "ipython",
    "version": 3
   },
   "file_extension": ".py",
   "mimetype": "text/x-python",
   "name": "python",
   "nbconvert_exporter": "python",
   "pygments_lexer": "ipython3",
   "version": "3.11.11"
  }
 },
 "nbformat": 4,
 "nbformat_minor": 5
}
